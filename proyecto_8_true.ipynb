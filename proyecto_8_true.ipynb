{
  "nbformat": 4,
  "nbformat_minor": 0,
  "metadata": {
    "colab": {
      "name": "proyecto 8 true",
      "provenance": [],
      "authorship_tag": "ABX9TyNKHAMHQxtO7ruODjUhpnvo",
      "include_colab_link": true
    },
    "kernelspec": {
      "name": "python3",
      "display_name": "Python 3"
    },
    "language_info": {
      "name": "python"
    }
  },
  "cells": [
    {
      "cell_type": "markdown",
      "metadata": {
        "id": "view-in-github",
        "colab_type": "text"
      },
      "source": [
        "<a href=\"https://colab.research.google.com/github/julianrojas19/julianrojas19.github.io/blob/main/proyecto_8_true.ipynb\" target=\"_parent\"><img src=\"https://colab.research.google.com/assets/colab-badge.svg\" alt=\"Open In Colab\"/></a>"
      ]
    },
    {
      "cell_type": "code",
      "execution_count": 1,
      "metadata": {
        "id": "lQDHjo5RzYKw"
      },
      "outputs": [],
      "source": [
        "import pandas as pd\n",
        "import numpy as np\n",
        "import matplotlib.pyplot as plt\n",
        "from scipy import linalg\n",
        "\n",
        "from sklearn.decomposition import PCA\n",
        "from sklearn.datasets import load_iris\n",
        "from sklearn.preprocessing import StandardScaler\n",
        "from sklearn.pipeline import make_pipeline"
      ]
    },
    {
      "cell_type": "code",
      "source": [
        "df =pd.read_csv(\"/content/economicas.csv\")\n",
        "df"
      ],
      "metadata": {
        "colab": {
          "base_uri": "https://localhost:8080/",
          "height": 661
        },
        "id": "umJLv3EKzbQe",
        "outputId": "abebe813-920f-4629-9d23-3a0ec3d28984"
      },
      "execution_count": 3,
      "outputs": [
        {
          "output_type": "execute_result",
          "data": {
            "text/plain": [
              "     ESTU_CONSECUTIVO  RESULT_CODIGOPRUEBA RESULT_NOMBREPRUEBA  \\\n",
              "0      EK202120243329                 2001  ANÁLISIS ECONÓMICO   \n",
              "1      EK202120227314                 2001  ANÁLISIS ECONÓMICO   \n",
              "2      EK202120088295                 2001  ANÁLISIS ECONÓMICO   \n",
              "3      EK202120120119                 2001  ANÁLISIS ECONÓMICO   \n",
              "4      EK202120248108                 2001  ANÁLISIS ECONÓMICO   \n",
              "...               ...                  ...                 ...   \n",
              "3850   EK202120232172                 2001  ANÁLISIS ECONÓMICO   \n",
              "3851   EK202120320571                 2001  ANÁLISIS ECONÓMICO   \n",
              "3852   EK202120313923                 2001  ANÁLISIS ECONÓMICO   \n",
              "3853   EK202120281981                 2001  ANÁLISIS ECONÓMICO   \n",
              "3854   EK202120224998                 2001  ANÁLISIS ECONÓMICO   \n",
              "\n",
              "      RESULT_PUNTAJE  RESULT_DESEMPENO ESTU_AGREGADO ESTU_TIPODOCUMENTO  \\\n",
              "0                128                 2             S                 CC   \n",
              "1                209                 4             S                 CC   \n",
              "2                106                 1             S                 CC   \n",
              "3                 89                 1             S                 CC   \n",
              "4                122                 1             S                 CC   \n",
              "...              ...               ...           ...                ...   \n",
              "3850             151                 2             S                 CC   \n",
              "3851             162                 3             S                 CC   \n",
              "3852               0                 1             S                 CC   \n",
              "3853             110                 1             S                 CC   \n",
              "3854             115                 1             S                 CC   \n",
              "\n",
              "     ESTU_NACIONALIDAD ESTU_GENERO ESTU_FECHANACIMIENTO  ...  \\\n",
              "0             COLOMBIA           M           14/10/1996  ...   \n",
              "1             COLOMBIA           M           17/02/2001  ...   \n",
              "2             COLOMBIA           M           02/10/1991  ...   \n",
              "3             COLOMBIA           F           23/07/1998  ...   \n",
              "4             COLOMBIA           M           23/09/1997  ...   \n",
              "...                ...         ...                  ...  ...   \n",
              "3850          COLOMBIA           M           18/03/1996  ...   \n",
              "3851          COLOMBIA           F           26/07/2000  ...   \n",
              "3852          COLOMBIA           F           30/01/1989  ...   \n",
              "3853          COLOMBIA           F           23/04/1998  ...   \n",
              "3854          COLOMBIA           M           13/02/1996  ...   \n",
              "\n",
              "     MOD_COMUNI_ESCRITA_DESEM  MOD_COMUNI_ESCRITA_PNAL  \\\n",
              "0                         3.0                       71   \n",
              "1                         4.0                      100   \n",
              "2                         NaN                        1   \n",
              "3                         1.0                       12   \n",
              "4                         2.0                       20   \n",
              "...                       ...                      ...   \n",
              "3850                      3.0                       93   \n",
              "3851                      3.0                       80   \n",
              "3852                      3.0                       71   \n",
              "3853                      1.0                       14   \n",
              "3854                      1.0                        7   \n",
              "\n",
              "     MOD_COMUNI_ESCRITA_PNBC PUNT_GLOBAL PERCENTIL_NBC  PERCENTIL_GLOBAL  \\\n",
              "0                         57         201            95                99   \n",
              "1                        100         222            99               100   \n",
              "2                          1          88             1                 2   \n",
              "3                          7         159            49                71   \n",
              "4                         13         156            44                67   \n",
              "...                      ...         ...           ...               ...   \n",
              "3850                      87         196            93                98   \n",
              "3851                      69         192            90                97   \n",
              "3852                      57         158            47                70   \n",
              "3853                       9         117             6                15   \n",
              "3854                       4         147            31                54   \n",
              "\n",
              "     ESTU_INSE_INDIVIDUAL  ESTU_NSE_INDIVIDUAL ESTU_NSE_IES  \\\n",
              "0               51.049129                  2.0            3   \n",
              "1               66.866795                  4.0            4   \n",
              "2               37.751353                  1.0            2   \n",
              "3               59.846055                  4.0            2   \n",
              "4               48.248516                  2.0            2   \n",
              "...                   ...                  ...          ...   \n",
              "3850            75.589753                  4.0            4   \n",
              "3851            75.346915                  4.0            4   \n",
              "3852            48.890151                  2.0            2   \n",
              "3853            43.091355                  1.0            2   \n",
              "3854                  NaN                  NaN            2   \n",
              "\n",
              "     ESTU_ESTADOINVESTIGACION  \n",
              "0                    PUBLICAR  \n",
              "1                    PUBLICAR  \n",
              "2                    PUBLICAR  \n",
              "3                    PUBLICAR  \n",
              "4                    PUBLICAR  \n",
              "...                       ...  \n",
              "3850                 PUBLICAR  \n",
              "3851                 PUBLICAR  \n",
              "3852                 PUBLICAR  \n",
              "3853                 PUBLICAR  \n",
              "3854                 PUBLICAR  \n",
              "\n",
              "[3855 rows x 97 columns]"
            ],
            "text/html": [
              "\n",
              "  <div id=\"df-0937c71b-3901-452b-9909-ab9b4205b615\">\n",
              "    <div class=\"colab-df-container\">\n",
              "      <div>\n",
              "<style scoped>\n",
              "    .dataframe tbody tr th:only-of-type {\n",
              "        vertical-align: middle;\n",
              "    }\n",
              "\n",
              "    .dataframe tbody tr th {\n",
              "        vertical-align: top;\n",
              "    }\n",
              "\n",
              "    .dataframe thead th {\n",
              "        text-align: right;\n",
              "    }\n",
              "</style>\n",
              "<table border=\"1\" class=\"dataframe\">\n",
              "  <thead>\n",
              "    <tr style=\"text-align: right;\">\n",
              "      <th></th>\n",
              "      <th>ESTU_CONSECUTIVO</th>\n",
              "      <th>RESULT_CODIGOPRUEBA</th>\n",
              "      <th>RESULT_NOMBREPRUEBA</th>\n",
              "      <th>RESULT_PUNTAJE</th>\n",
              "      <th>RESULT_DESEMPENO</th>\n",
              "      <th>ESTU_AGREGADO</th>\n",
              "      <th>ESTU_TIPODOCUMENTO</th>\n",
              "      <th>ESTU_NACIONALIDAD</th>\n",
              "      <th>ESTU_GENERO</th>\n",
              "      <th>ESTU_FECHANACIMIENTO</th>\n",
              "      <th>...</th>\n",
              "      <th>MOD_COMUNI_ESCRITA_DESEM</th>\n",
              "      <th>MOD_COMUNI_ESCRITA_PNAL</th>\n",
              "      <th>MOD_COMUNI_ESCRITA_PNBC</th>\n",
              "      <th>PUNT_GLOBAL</th>\n",
              "      <th>PERCENTIL_NBC</th>\n",
              "      <th>PERCENTIL_GLOBAL</th>\n",
              "      <th>ESTU_INSE_INDIVIDUAL</th>\n",
              "      <th>ESTU_NSE_INDIVIDUAL</th>\n",
              "      <th>ESTU_NSE_IES</th>\n",
              "      <th>ESTU_ESTADOINVESTIGACION</th>\n",
              "    </tr>\n",
              "  </thead>\n",
              "  <tbody>\n",
              "    <tr>\n",
              "      <th>0</th>\n",
              "      <td>EK202120243329</td>\n",
              "      <td>2001</td>\n",
              "      <td>ANÁLISIS ECONÓMICO</td>\n",
              "      <td>128</td>\n",
              "      <td>2</td>\n",
              "      <td>S</td>\n",
              "      <td>CC</td>\n",
              "      <td>COLOMBIA</td>\n",
              "      <td>M</td>\n",
              "      <td>14/10/1996</td>\n",
              "      <td>...</td>\n",
              "      <td>3.0</td>\n",
              "      <td>71</td>\n",
              "      <td>57</td>\n",
              "      <td>201</td>\n",
              "      <td>95</td>\n",
              "      <td>99</td>\n",
              "      <td>51.049129</td>\n",
              "      <td>2.0</td>\n",
              "      <td>3</td>\n",
              "      <td>PUBLICAR</td>\n",
              "    </tr>\n",
              "    <tr>\n",
              "      <th>1</th>\n",
              "      <td>EK202120227314</td>\n",
              "      <td>2001</td>\n",
              "      <td>ANÁLISIS ECONÓMICO</td>\n",
              "      <td>209</td>\n",
              "      <td>4</td>\n",
              "      <td>S</td>\n",
              "      <td>CC</td>\n",
              "      <td>COLOMBIA</td>\n",
              "      <td>M</td>\n",
              "      <td>17/02/2001</td>\n",
              "      <td>...</td>\n",
              "      <td>4.0</td>\n",
              "      <td>100</td>\n",
              "      <td>100</td>\n",
              "      <td>222</td>\n",
              "      <td>99</td>\n",
              "      <td>100</td>\n",
              "      <td>66.866795</td>\n",
              "      <td>4.0</td>\n",
              "      <td>4</td>\n",
              "      <td>PUBLICAR</td>\n",
              "    </tr>\n",
              "    <tr>\n",
              "      <th>2</th>\n",
              "      <td>EK202120088295</td>\n",
              "      <td>2001</td>\n",
              "      <td>ANÁLISIS ECONÓMICO</td>\n",
              "      <td>106</td>\n",
              "      <td>1</td>\n",
              "      <td>S</td>\n",
              "      <td>CC</td>\n",
              "      <td>COLOMBIA</td>\n",
              "      <td>M</td>\n",
              "      <td>02/10/1991</td>\n",
              "      <td>...</td>\n",
              "      <td>NaN</td>\n",
              "      <td>1</td>\n",
              "      <td>1</td>\n",
              "      <td>88</td>\n",
              "      <td>1</td>\n",
              "      <td>2</td>\n",
              "      <td>37.751353</td>\n",
              "      <td>1.0</td>\n",
              "      <td>2</td>\n",
              "      <td>PUBLICAR</td>\n",
              "    </tr>\n",
              "    <tr>\n",
              "      <th>3</th>\n",
              "      <td>EK202120120119</td>\n",
              "      <td>2001</td>\n",
              "      <td>ANÁLISIS ECONÓMICO</td>\n",
              "      <td>89</td>\n",
              "      <td>1</td>\n",
              "      <td>S</td>\n",
              "      <td>CC</td>\n",
              "      <td>COLOMBIA</td>\n",
              "      <td>F</td>\n",
              "      <td>23/07/1998</td>\n",
              "      <td>...</td>\n",
              "      <td>1.0</td>\n",
              "      <td>12</td>\n",
              "      <td>7</td>\n",
              "      <td>159</td>\n",
              "      <td>49</td>\n",
              "      <td>71</td>\n",
              "      <td>59.846055</td>\n",
              "      <td>4.0</td>\n",
              "      <td>2</td>\n",
              "      <td>PUBLICAR</td>\n",
              "    </tr>\n",
              "    <tr>\n",
              "      <th>4</th>\n",
              "      <td>EK202120248108</td>\n",
              "      <td>2001</td>\n",
              "      <td>ANÁLISIS ECONÓMICO</td>\n",
              "      <td>122</td>\n",
              "      <td>1</td>\n",
              "      <td>S</td>\n",
              "      <td>CC</td>\n",
              "      <td>COLOMBIA</td>\n",
              "      <td>M</td>\n",
              "      <td>23/09/1997</td>\n",
              "      <td>...</td>\n",
              "      <td>2.0</td>\n",
              "      <td>20</td>\n",
              "      <td>13</td>\n",
              "      <td>156</td>\n",
              "      <td>44</td>\n",
              "      <td>67</td>\n",
              "      <td>48.248516</td>\n",
              "      <td>2.0</td>\n",
              "      <td>2</td>\n",
              "      <td>PUBLICAR</td>\n",
              "    </tr>\n",
              "    <tr>\n",
              "      <th>...</th>\n",
              "      <td>...</td>\n",
              "      <td>...</td>\n",
              "      <td>...</td>\n",
              "      <td>...</td>\n",
              "      <td>...</td>\n",
              "      <td>...</td>\n",
              "      <td>...</td>\n",
              "      <td>...</td>\n",
              "      <td>...</td>\n",
              "      <td>...</td>\n",
              "      <td>...</td>\n",
              "      <td>...</td>\n",
              "      <td>...</td>\n",
              "      <td>...</td>\n",
              "      <td>...</td>\n",
              "      <td>...</td>\n",
              "      <td>...</td>\n",
              "      <td>...</td>\n",
              "      <td>...</td>\n",
              "      <td>...</td>\n",
              "      <td>...</td>\n",
              "    </tr>\n",
              "    <tr>\n",
              "      <th>3850</th>\n",
              "      <td>EK202120232172</td>\n",
              "      <td>2001</td>\n",
              "      <td>ANÁLISIS ECONÓMICO</td>\n",
              "      <td>151</td>\n",
              "      <td>2</td>\n",
              "      <td>S</td>\n",
              "      <td>CC</td>\n",
              "      <td>COLOMBIA</td>\n",
              "      <td>M</td>\n",
              "      <td>18/03/1996</td>\n",
              "      <td>...</td>\n",
              "      <td>3.0</td>\n",
              "      <td>93</td>\n",
              "      <td>87</td>\n",
              "      <td>196</td>\n",
              "      <td>93</td>\n",
              "      <td>98</td>\n",
              "      <td>75.589753</td>\n",
              "      <td>4.0</td>\n",
              "      <td>4</td>\n",
              "      <td>PUBLICAR</td>\n",
              "    </tr>\n",
              "    <tr>\n",
              "      <th>3851</th>\n",
              "      <td>EK202120320571</td>\n",
              "      <td>2001</td>\n",
              "      <td>ANÁLISIS ECONÓMICO</td>\n",
              "      <td>162</td>\n",
              "      <td>3</td>\n",
              "      <td>S</td>\n",
              "      <td>CC</td>\n",
              "      <td>COLOMBIA</td>\n",
              "      <td>F</td>\n",
              "      <td>26/07/2000</td>\n",
              "      <td>...</td>\n",
              "      <td>3.0</td>\n",
              "      <td>80</td>\n",
              "      <td>69</td>\n",
              "      <td>192</td>\n",
              "      <td>90</td>\n",
              "      <td>97</td>\n",
              "      <td>75.346915</td>\n",
              "      <td>4.0</td>\n",
              "      <td>4</td>\n",
              "      <td>PUBLICAR</td>\n",
              "    </tr>\n",
              "    <tr>\n",
              "      <th>3852</th>\n",
              "      <td>EK202120313923</td>\n",
              "      <td>2001</td>\n",
              "      <td>ANÁLISIS ECONÓMICO</td>\n",
              "      <td>0</td>\n",
              "      <td>1</td>\n",
              "      <td>S</td>\n",
              "      <td>CC</td>\n",
              "      <td>COLOMBIA</td>\n",
              "      <td>F</td>\n",
              "      <td>30/01/1989</td>\n",
              "      <td>...</td>\n",
              "      <td>3.0</td>\n",
              "      <td>71</td>\n",
              "      <td>57</td>\n",
              "      <td>158</td>\n",
              "      <td>47</td>\n",
              "      <td>70</td>\n",
              "      <td>48.890151</td>\n",
              "      <td>2.0</td>\n",
              "      <td>2</td>\n",
              "      <td>PUBLICAR</td>\n",
              "    </tr>\n",
              "    <tr>\n",
              "      <th>3853</th>\n",
              "      <td>EK202120281981</td>\n",
              "      <td>2001</td>\n",
              "      <td>ANÁLISIS ECONÓMICO</td>\n",
              "      <td>110</td>\n",
              "      <td>1</td>\n",
              "      <td>S</td>\n",
              "      <td>CC</td>\n",
              "      <td>COLOMBIA</td>\n",
              "      <td>F</td>\n",
              "      <td>23/04/1998</td>\n",
              "      <td>...</td>\n",
              "      <td>1.0</td>\n",
              "      <td>14</td>\n",
              "      <td>9</td>\n",
              "      <td>117</td>\n",
              "      <td>6</td>\n",
              "      <td>15</td>\n",
              "      <td>43.091355</td>\n",
              "      <td>1.0</td>\n",
              "      <td>2</td>\n",
              "      <td>PUBLICAR</td>\n",
              "    </tr>\n",
              "    <tr>\n",
              "      <th>3854</th>\n",
              "      <td>EK202120224998</td>\n",
              "      <td>2001</td>\n",
              "      <td>ANÁLISIS ECONÓMICO</td>\n",
              "      <td>115</td>\n",
              "      <td>1</td>\n",
              "      <td>S</td>\n",
              "      <td>CC</td>\n",
              "      <td>COLOMBIA</td>\n",
              "      <td>M</td>\n",
              "      <td>13/02/1996</td>\n",
              "      <td>...</td>\n",
              "      <td>1.0</td>\n",
              "      <td>7</td>\n",
              "      <td>4</td>\n",
              "      <td>147</td>\n",
              "      <td>31</td>\n",
              "      <td>54</td>\n",
              "      <td>NaN</td>\n",
              "      <td>NaN</td>\n",
              "      <td>2</td>\n",
              "      <td>PUBLICAR</td>\n",
              "    </tr>\n",
              "  </tbody>\n",
              "</table>\n",
              "<p>3855 rows × 97 columns</p>\n",
              "</div>\n",
              "      <button class=\"colab-df-convert\" onclick=\"convertToInteractive('df-0937c71b-3901-452b-9909-ab9b4205b615')\"\n",
              "              title=\"Convert this dataframe to an interactive table.\"\n",
              "              style=\"display:none;\">\n",
              "        \n",
              "  <svg xmlns=\"http://www.w3.org/2000/svg\" height=\"24px\"viewBox=\"0 0 24 24\"\n",
              "       width=\"24px\">\n",
              "    <path d=\"M0 0h24v24H0V0z\" fill=\"none\"/>\n",
              "    <path d=\"M18.56 5.44l.94 2.06.94-2.06 2.06-.94-2.06-.94-.94-2.06-.94 2.06-2.06.94zm-11 1L8.5 8.5l.94-2.06 2.06-.94-2.06-.94L8.5 2.5l-.94 2.06-2.06.94zm10 10l.94 2.06.94-2.06 2.06-.94-2.06-.94-.94-2.06-.94 2.06-2.06.94z\"/><path d=\"M17.41 7.96l-1.37-1.37c-.4-.4-.92-.59-1.43-.59-.52 0-1.04.2-1.43.59L10.3 9.45l-7.72 7.72c-.78.78-.78 2.05 0 2.83L4 21.41c.39.39.9.59 1.41.59.51 0 1.02-.2 1.41-.59l7.78-7.78 2.81-2.81c.8-.78.8-2.07 0-2.86zM5.41 20L4 18.59l7.72-7.72 1.47 1.35L5.41 20z\"/>\n",
              "  </svg>\n",
              "      </button>\n",
              "      \n",
              "  <style>\n",
              "    .colab-df-container {\n",
              "      display:flex;\n",
              "      flex-wrap:wrap;\n",
              "      gap: 12px;\n",
              "    }\n",
              "\n",
              "    .colab-df-convert {\n",
              "      background-color: #E8F0FE;\n",
              "      border: none;\n",
              "      border-radius: 50%;\n",
              "      cursor: pointer;\n",
              "      display: none;\n",
              "      fill: #1967D2;\n",
              "      height: 32px;\n",
              "      padding: 0 0 0 0;\n",
              "      width: 32px;\n",
              "    }\n",
              "\n",
              "    .colab-df-convert:hover {\n",
              "      background-color: #E2EBFA;\n",
              "      box-shadow: 0px 1px 2px rgba(60, 64, 67, 0.3), 0px 1px 3px 1px rgba(60, 64, 67, 0.15);\n",
              "      fill: #174EA6;\n",
              "    }\n",
              "\n",
              "    [theme=dark] .colab-df-convert {\n",
              "      background-color: #3B4455;\n",
              "      fill: #D2E3FC;\n",
              "    }\n",
              "\n",
              "    [theme=dark] .colab-df-convert:hover {\n",
              "      background-color: #434B5C;\n",
              "      box-shadow: 0px 1px 3px 1px rgba(0, 0, 0, 0.15);\n",
              "      filter: drop-shadow(0px 1px 2px rgba(0, 0, 0, 0.3));\n",
              "      fill: #FFFFFF;\n",
              "    }\n",
              "  </style>\n",
              "\n",
              "      <script>\n",
              "        const buttonEl =\n",
              "          document.querySelector('#df-0937c71b-3901-452b-9909-ab9b4205b615 button.colab-df-convert');\n",
              "        buttonEl.style.display =\n",
              "          google.colab.kernel.accessAllowed ? 'block' : 'none';\n",
              "\n",
              "        async function convertToInteractive(key) {\n",
              "          const element = document.querySelector('#df-0937c71b-3901-452b-9909-ab9b4205b615');\n",
              "          const dataTable =\n",
              "            await google.colab.kernel.invokeFunction('convertToInteractive',\n",
              "                                                     [key], {});\n",
              "          if (!dataTable) return;\n",
              "\n",
              "          const docLinkHtml = 'Like what you see? Visit the ' +\n",
              "            '<a target=\"_blank\" href=https://colab.research.google.com/notebooks/data_table.ipynb>data table notebook</a>'\n",
              "            + ' to learn more about interactive tables.';\n",
              "          element.innerHTML = '';\n",
              "          dataTable['output_type'] = 'display_data';\n",
              "          await google.colab.output.renderOutput(dataTable, element);\n",
              "          const docLink = document.createElement('div');\n",
              "          docLink.innerHTML = docLinkHtml;\n",
              "          element.appendChild(docLink);\n",
              "        }\n",
              "      </script>\n",
              "    </div>\n",
              "  </div>\n",
              "  "
            ]
          },
          "metadata": {},
          "execution_count": 3
        }
      ]
    },
    {
      "cell_type": "code",
      "source": [
        "df.info()"
      ],
      "metadata": {
        "colab": {
          "base_uri": "https://localhost:8080/"
        },
        "id": "kkQLp_Hezdm1",
        "outputId": "75cb0385-7a07-4211-be6b-418ee4939b55"
      },
      "execution_count": 16,
      "outputs": [
        {
          "output_type": "stream",
          "name": "stdout",
          "text": [
            "<class 'pandas.core.frame.DataFrame'>\n",
            "RangeIndex: 3855 entries, 0 to 3854\n",
            "Data columns (total 97 columns):\n",
            " #   Column                          Non-Null Count  Dtype  \n",
            "---  ------                          --------------  -----  \n",
            " 0   ESTU_CONSECUTIVO                3855 non-null   object \n",
            " 1   RESULT_CODIGOPRUEBA             3855 non-null   int64  \n",
            " 2   RESULT_NOMBREPRUEBA             3855 non-null   object \n",
            " 3   RESULT_PUNTAJE                  3855 non-null   int64  \n",
            " 4   RESULT_DESEMPENO                3855 non-null   int64  \n",
            " 5   ESTU_AGREGADO                   3855 non-null   object \n",
            " 6   ESTU_TIPODOCUMENTO              3855 non-null   object \n",
            " 7   ESTU_NACIONALIDAD               3855 non-null   object \n",
            " 8   ESTU_GENERO                     3855 non-null   object \n",
            " 9   ESTU_FECHANACIMIENTO            3855 non-null   object \n",
            " 10  ESTU_EXTERIOR                   3855 non-null   object \n",
            " 11  PERIODO                         3855 non-null   int64  \n",
            " 12  ESTU_ESTUDIANTE                 3855 non-null   object \n",
            " 13  ESTU_PAIS_RESIDE                3855 non-null   object \n",
            " 14  ESTU_DEPTO_RESIDE               3855 non-null   object \n",
            " 15  ESTU_COD_RESIDE_DEPTO           3855 non-null   int64  \n",
            " 16  ESTU_MCPIO_RESIDE               3855 non-null   object \n",
            " 17  ESTU_COD_RESIDE_MCPIO           3855 non-null   int64  \n",
            " 18  ESTU_AREARESIDE                 3852 non-null   object \n",
            " 19  ESTU_COLE_TERMINO               2768 non-null   object \n",
            " 20  ESTU_CODDANE_COLE_TERMINO       2768 non-null   float64\n",
            " 21  ESTU_COD_COLE_MCPIO_TERMINO     2768 non-null   float64\n",
            " 22  ESTU_TITULOOBTENIDOBACHILLER    3850 non-null   object \n",
            " 23  ESTU_VALORMATRICULAUNIVERSIDAD  3850 non-null   object \n",
            " 24  ESTU_PAGOMATRICULABECA          3850 non-null   object \n",
            " 25  ESTU_PAGOMATRICULACREDITO       3850 non-null   object \n",
            " 26  ESTU_PAGOMATRICULAPADRES        3850 non-null   object \n",
            " 27  ESTU_PAGOMATRICULAPROPIO        3850 non-null   object \n",
            " 28  ESTU_COMOCAPACITOEXAMENSB11     3852 non-null   object \n",
            " 29  ESTU_TIPODOCUMENTOSB11          3821 non-null   object \n",
            " 30  ESTU_SEMESTRECURSA              3850 non-null   object \n",
            " 31  FAMI_EDUCACIONPADRE             3760 non-null   object \n",
            " 32  FAMI_EDUCACIONMADRE             3755 non-null   object \n",
            " 33  FAMI_TRABAJOLABORPADRE          3451 non-null   object \n",
            " 34  FAMI_TRABAJOLABORMADRE          3611 non-null   object \n",
            " 35  FAMI_ESTRATOVIVIENDA            3721 non-null   object \n",
            " 36  ESTU_OTROCOLE_TERMINO           704 non-null    object \n",
            " 37  FAMI_TIENEINTERNET              3723 non-null   object \n",
            " 38  FAMI_TIENECOMPUTADOR            3483 non-null   object \n",
            " 39  FAMI_TIENELAVADORA              3444 non-null   object \n",
            " 40  FAMI_TIENEHORNOMICROOGAS        3423 non-null   object \n",
            " 41  FAMI_TIENESERVICIOTV            3739 non-null   object \n",
            " 42  FAMI_TIENEAUTOMOVIL             3414 non-null   object \n",
            " 43  FAMI_TIENEMOTOCICLETA           3423 non-null   object \n",
            " 44  FAMI_TIENECONSOLAVIDEOJUEGOS    3430 non-null   object \n",
            " 45  FAMI_CUANTOSCOMPARTEBAÑO        3730 non-null   object \n",
            " 46  ESTU_PRESENTACIONCASA           3855 non-null   object \n",
            " 47  ESTU_PAISDOCUMENTOS11           3850 non-null   object \n",
            " 48  ESTU_HORASSEMANATRABAJA         3723 non-null   object \n",
            " 49  INST_COD_INSTITUCION            3855 non-null   int64  \n",
            " 50  INST_NOMBRE_INSTITUCION         3855 non-null   object \n",
            " 51  ESTU_PRGM_ACADEMICO             3855 non-null   object \n",
            " 52  ESTU_SNIES_PRGMACADEMICO        3855 non-null   int64  \n",
            " 53  GRUPOREFERENCIA                 3855 non-null   object \n",
            " 54  ESTU_PRGM_CODMUNICIPIO          3855 non-null   int64  \n",
            " 55  ESTU_PRGM_MUNICIPIO             3855 non-null   object \n",
            " 56  ESTU_PRGM_DEPARTAMENTO          3855 non-null   object \n",
            " 57  ESTU_NIVEL_PRGM_ACADEMICO       3855 non-null   object \n",
            " 58  ESTU_METODO_PRGM                3855 non-null   object \n",
            " 59  ESTU_NUCLEO_PREGRADO            3855 non-null   object \n",
            " 60  ESTU_INST_CODMUNICIPIO          3855 non-null   int64  \n",
            " 61  ESTU_INST_MUNICIPIO             3855 non-null   object \n",
            " 62  ESTU_INST_DEPARTAMENTO          3855 non-null   object \n",
            " 63  INST_CARACTER_ACADEMICO         3855 non-null   object \n",
            " 64  INST_ORIGEN                     3855 non-null   object \n",
            " 65  ESTU_PRIVADO_LIBERTAD           3855 non-null   object \n",
            " 66  ESTU_COD_MCPIO_PRESENTACION     3855 non-null   int64  \n",
            " 67  ESTU_MCPIO_PRESENTACION         3855 non-null   object \n",
            " 68  ESTU_DEPTO_PRESENTACION         3855 non-null   object \n",
            " 69  ESTU_COD_DEPTO_PRESENTACION     3855 non-null   int64  \n",
            " 70  MOD_RAZONA_CUANTITAT_PUNT       3855 non-null   int64  \n",
            " 71  MOD_RAZONA_CUANTITAT_DESEM      3855 non-null   int64  \n",
            " 72  MOD_RAZONA_CUANTITATIVO_PNAL    3855 non-null   int64  \n",
            " 73  MOD_RAZONA_CUANTITATIVO_PNBC    3855 non-null   int64  \n",
            " 74  MOD_LECTURA_CRITICA_PUNT        3855 non-null   int64  \n",
            " 75  MOD_LECTURA_CRITICA_DESEM       3855 non-null   int64  \n",
            " 76  MOD_LECTURA_CRITICA_PNAL        3855 non-null   int64  \n",
            " 77  MOD_LECTURA_CRITICA_PNBC        3855 non-null   int64  \n",
            " 78  MOD_COMPETEN_CIUDADA_PUNT       3855 non-null   int64  \n",
            " 79  MOD_COMPETEN_CIUDADA_DESEM      3855 non-null   int64  \n",
            " 80  MOD_COMPETEN_CIUDADA_PNAL       3855 non-null   int64  \n",
            " 81  MOD_COMPETEN_CIUDADA_PNBC       3855 non-null   int64  \n",
            " 82  MOD_INGLES_PUNT                 3855 non-null   int64  \n",
            " 83  MOD_INGLES_DESEM                3855 non-null   object \n",
            " 84  MOD_INGLES_PNAL                 3855 non-null   int64  \n",
            " 85  MOD_INGLES_PNBC                 3855 non-null   int64  \n",
            " 86  MOD_COMUNI_ESCRITA_PUNT         3855 non-null   int64  \n",
            " 87  MOD_COMUNI_ESCRITA_DESEM        3801 non-null   float64\n",
            " 88  MOD_COMUNI_ESCRITA_PNAL         3855 non-null   int64  \n",
            " 89  MOD_COMUNI_ESCRITA_PNBC         3855 non-null   int64  \n",
            " 90  PUNT_GLOBAL                     3855 non-null   int64  \n",
            " 91  PERCENTIL_NBC                   3855 non-null   int64  \n",
            " 92  PERCENTIL_GLOBAL                3855 non-null   int64  \n",
            " 93  ESTU_INSE_INDIVIDUAL            3724 non-null   float64\n",
            " 94  ESTU_NSE_INDIVIDUAL             3724 non-null   float64\n",
            " 95  ESTU_NSE_IES                    3855 non-null   int64  \n",
            " 96  ESTU_ESTADOINVESTIGACION        3855 non-null   object \n",
            "dtypes: float64(5), int64(34), object(58)\n",
            "memory usage: 2.9+ MB\n"
          ]
        }
      ]
    },
    {
      "cell_type": "code",
      "source": [
        "X=df[['MOD_LECTURA_CRITICA_PUNT','MOD_COMPETEN_CIUDADA_PUNT','MOD_COMUNI_ESCRITA_PUNT']]"
      ],
      "metadata": {
        "id": "v7Tg0AhAzkxU"
      },
      "execution_count": 75,
      "outputs": []
    },
    {
      "cell_type": "code",
      "source": [
        "X.isna().sum()"
      ],
      "metadata": {
        "colab": {
          "base_uri": "https://localhost:8080/"
        },
        "id": "HeIO1oHczmyc",
        "outputId": "defc8405-62e3-4ba4-a112-b3f2e81e4826"
      },
      "execution_count": 76,
      "outputs": [
        {
          "output_type": "execute_result",
          "data": {
            "text/plain": [
              "MOD_LECTURA_CRITICA_PUNT     0\n",
              "MOD_COMPETEN_CIUDADA_PUNT    0\n",
              "MOD_COMUNI_ESCRITA_PUNT      0\n",
              "dtype: int64"
            ]
          },
          "metadata": {},
          "execution_count": 76
        }
      ]
    },
    {
      "cell_type": "code",
      "source": [
        "X.info()"
      ],
      "metadata": {
        "colab": {
          "base_uri": "https://localhost:8080/"
        },
        "id": "QhxYz9zU0KgR",
        "outputId": "edc53295-e9bd-42a2-d3d6-c813c693af11"
      },
      "execution_count": 77,
      "outputs": [
        {
          "output_type": "stream",
          "name": "stdout",
          "text": [
            "<class 'pandas.core.frame.DataFrame'>\n",
            "RangeIndex: 3855 entries, 0 to 3854\n",
            "Data columns (total 3 columns):\n",
            " #   Column                     Non-Null Count  Dtype\n",
            "---  ------                     --------------  -----\n",
            " 0   MOD_LECTURA_CRITICA_PUNT   3855 non-null   int64\n",
            " 1   MOD_COMPETEN_CIUDADA_PUNT  3855 non-null   int64\n",
            " 2   MOD_COMUNI_ESCRITA_PUNT    3855 non-null   int64\n",
            "dtypes: int64(3)\n",
            "memory usage: 90.5 KB\n"
          ]
        }
      ]
    },
    {
      "cell_type": "code",
      "source": [
        "X = X.to_numpy()"
      ],
      "metadata": {
        "id": "lbNdvLL-z7Xk"
      },
      "execution_count": 78,
      "outputs": []
    },
    {
      "cell_type": "code",
      "source": [
        "y=df[['PUNT_GLOBAL']]"
      ],
      "metadata": {
        "id": "i6GnPvZg0KHt"
      },
      "execution_count": 79,
      "outputs": []
    },
    {
      "cell_type": "code",
      "source": [
        "Y=y.to_numpy()"
      ],
      "metadata": {
        "id": "xGU15B2P0UOV"
      },
      "execution_count": 80,
      "outputs": []
    },
    {
      "cell_type": "code",
      "source": [
        "l = []\n",
        "for i in X.T:\n",
        "  u = i.mean()\n",
        "  s = i.std()\n",
        "  scal = (i - u) / s\n",
        "  l.append(scal)\n",
        "\n",
        "x_scal = np.array(l).T"
      ],
      "metadata": {
        "id": "Ww1_JAoX1OGl"
      },
      "execution_count": 81,
      "outputs": []
    },
    {
      "cell_type": "code",
      "source": [
        "cov_x = np.cov(x_scal.T)\n",
        "cov_x"
      ],
      "metadata": {
        "colab": {
          "base_uri": "https://localhost:8080/"
        },
        "id": "ybHNDT4A1P71",
        "outputId": "013aa8b8-44cf-46f5-fadd-ac7515f919c2"
      },
      "execution_count": 82,
      "outputs": [
        {
          "output_type": "execute_result",
          "data": {
            "text/plain": [
              "array([[1.00025947, 0.71551703, 0.354248  ],\n",
              "       [0.71551703, 1.00025947, 0.32929953],\n",
              "       [0.354248  , 0.32929953, 1.00025947]])"
            ]
          },
          "metadata": {},
          "execution_count": 82
        }
      ]
    },
    {
      "cell_type": "code",
      "source": [
        "np.linalg.eig(pd.DataFrame(X).corr().to_numpy())"
      ],
      "metadata": {
        "colab": {
          "base_uri": "https://localhost:8080/"
        },
        "id": "h3i98w1h1Sn8",
        "outputId": "cf3492ae-d49f-4049-974c-ede972497863"
      },
      "execution_count": 83,
      "outputs": [
        {
          "output_type": "execute_result",
          "data": {
            "text/plain": [
              "(array([1.95888733, 0.28410584, 0.75700683]),\n",
              " array([[-0.63477955, -0.71431923, -0.29462344],\n",
              "        [-0.6280743 ,  0.69909307, -0.34174779],\n",
              "        [-0.45008622,  0.0318891 ,  0.89241553]]))"
            ]
          },
          "metadata": {},
          "execution_count": 83
        }
      ]
    },
    {
      "cell_type": "code",
      "source": [
        "val_p, vec_p = linalg.eig(cov_x)\n",
        "val_p, vec_p"
      ],
      "metadata": {
        "colab": {
          "base_uri": "https://localhost:8080/"
        },
        "id": "Jm5qPdu21T1t",
        "outputId": "346804ee-300c-4665-ffb7-255a41aa3926"
      },
      "execution_count": 84,
      "outputs": [
        {
          "output_type": "execute_result",
          "data": {
            "text/plain": [
              "(array([1.9593956 +0.j, 0.28417956+0.j, 0.75720325+0.j]),\n",
              " array([[-0.63477955, -0.71431923, -0.29462344],\n",
              "        [-0.6280743 ,  0.69909307, -0.34174779],\n",
              "        [-0.45008622,  0.0318891 ,  0.89241553]]))"
            ]
          },
          "metadata": {},
          "execution_count": 84
        }
      ]
    },
    {
      "cell_type": "code",
      "source": [
        "val_p = val_p[:2]\n",
        "vec_p = vec_p[:, :2]"
      ],
      "metadata": {
        "id": "dz7lJfWD1Uz0"
      },
      "execution_count": 85,
      "outputs": []
    },
    {
      "cell_type": "code",
      "source": [
        "W = vec_p\n",
        "pca_p = x_scal @ W\n",
        "pca_p = pd.DataFrame(pca_p, columns=[f'PC{i}' for i in range(1, pca_p.shape[1] + 1)])\n",
        "pca_p.head()"
      ],
      "metadata": {
        "colab": {
          "base_uri": "https://localhost:8080/",
          "height": 206
        },
        "id": "9_X66NOA1V-l",
        "outputId": "ea9954a2-8037-47a2-f804-d82f03e11de5"
      },
      "execution_count": 86,
      "outputs": [
        {
          "output_type": "execute_result",
          "data": {
            "text/plain": [
              "        PC1       PC2\n",
              "0 -0.438899  0.725566\n",
              "1 -3.100545  0.339631\n",
              "2  3.611010 -0.186785\n",
              "3 -0.249595 -0.319032\n",
              "4 -0.076309 -0.224536"
            ],
            "text/html": [
              "\n",
              "  <div id=\"df-d5eaa120-d0a8-4cdd-b631-4a0d726ac54b\">\n",
              "    <div class=\"colab-df-container\">\n",
              "      <div>\n",
              "<style scoped>\n",
              "    .dataframe tbody tr th:only-of-type {\n",
              "        vertical-align: middle;\n",
              "    }\n",
              "\n",
              "    .dataframe tbody tr th {\n",
              "        vertical-align: top;\n",
              "    }\n",
              "\n",
              "    .dataframe thead th {\n",
              "        text-align: right;\n",
              "    }\n",
              "</style>\n",
              "<table border=\"1\" class=\"dataframe\">\n",
              "  <thead>\n",
              "    <tr style=\"text-align: right;\">\n",
              "      <th></th>\n",
              "      <th>PC1</th>\n",
              "      <th>PC2</th>\n",
              "    </tr>\n",
              "  </thead>\n",
              "  <tbody>\n",
              "    <tr>\n",
              "      <th>0</th>\n",
              "      <td>-0.438899</td>\n",
              "      <td>0.725566</td>\n",
              "    </tr>\n",
              "    <tr>\n",
              "      <th>1</th>\n",
              "      <td>-3.100545</td>\n",
              "      <td>0.339631</td>\n",
              "    </tr>\n",
              "    <tr>\n",
              "      <th>2</th>\n",
              "      <td>3.611010</td>\n",
              "      <td>-0.186785</td>\n",
              "    </tr>\n",
              "    <tr>\n",
              "      <th>3</th>\n",
              "      <td>-0.249595</td>\n",
              "      <td>-0.319032</td>\n",
              "    </tr>\n",
              "    <tr>\n",
              "      <th>4</th>\n",
              "      <td>-0.076309</td>\n",
              "      <td>-0.224536</td>\n",
              "    </tr>\n",
              "  </tbody>\n",
              "</table>\n",
              "</div>\n",
              "      <button class=\"colab-df-convert\" onclick=\"convertToInteractive('df-d5eaa120-d0a8-4cdd-b631-4a0d726ac54b')\"\n",
              "              title=\"Convert this dataframe to an interactive table.\"\n",
              "              style=\"display:none;\">\n",
              "        \n",
              "  <svg xmlns=\"http://www.w3.org/2000/svg\" height=\"24px\"viewBox=\"0 0 24 24\"\n",
              "       width=\"24px\">\n",
              "    <path d=\"M0 0h24v24H0V0z\" fill=\"none\"/>\n",
              "    <path d=\"M18.56 5.44l.94 2.06.94-2.06 2.06-.94-2.06-.94-.94-2.06-.94 2.06-2.06.94zm-11 1L8.5 8.5l.94-2.06 2.06-.94-2.06-.94L8.5 2.5l-.94 2.06-2.06.94zm10 10l.94 2.06.94-2.06 2.06-.94-2.06-.94-.94-2.06-.94 2.06-2.06.94z\"/><path d=\"M17.41 7.96l-1.37-1.37c-.4-.4-.92-.59-1.43-.59-.52 0-1.04.2-1.43.59L10.3 9.45l-7.72 7.72c-.78.78-.78 2.05 0 2.83L4 21.41c.39.39.9.59 1.41.59.51 0 1.02-.2 1.41-.59l7.78-7.78 2.81-2.81c.8-.78.8-2.07 0-2.86zM5.41 20L4 18.59l7.72-7.72 1.47 1.35L5.41 20z\"/>\n",
              "  </svg>\n",
              "      </button>\n",
              "      \n",
              "  <style>\n",
              "    .colab-df-container {\n",
              "      display:flex;\n",
              "      flex-wrap:wrap;\n",
              "      gap: 12px;\n",
              "    }\n",
              "\n",
              "    .colab-df-convert {\n",
              "      background-color: #E8F0FE;\n",
              "      border: none;\n",
              "      border-radius: 50%;\n",
              "      cursor: pointer;\n",
              "      display: none;\n",
              "      fill: #1967D2;\n",
              "      height: 32px;\n",
              "      padding: 0 0 0 0;\n",
              "      width: 32px;\n",
              "    }\n",
              "\n",
              "    .colab-df-convert:hover {\n",
              "      background-color: #E2EBFA;\n",
              "      box-shadow: 0px 1px 2px rgba(60, 64, 67, 0.3), 0px 1px 3px 1px rgba(60, 64, 67, 0.15);\n",
              "      fill: #174EA6;\n",
              "    }\n",
              "\n",
              "    [theme=dark] .colab-df-convert {\n",
              "      background-color: #3B4455;\n",
              "      fill: #D2E3FC;\n",
              "    }\n",
              "\n",
              "    [theme=dark] .colab-df-convert:hover {\n",
              "      background-color: #434B5C;\n",
              "      box-shadow: 0px 1px 3px 1px rgba(0, 0, 0, 0.15);\n",
              "      filter: drop-shadow(0px 1px 2px rgba(0, 0, 0, 0.3));\n",
              "      fill: #FFFFFF;\n",
              "    }\n",
              "  </style>\n",
              "\n",
              "      <script>\n",
              "        const buttonEl =\n",
              "          document.querySelector('#df-d5eaa120-d0a8-4cdd-b631-4a0d726ac54b button.colab-df-convert');\n",
              "        buttonEl.style.display =\n",
              "          google.colab.kernel.accessAllowed ? 'block' : 'none';\n",
              "\n",
              "        async function convertToInteractive(key) {\n",
              "          const element = document.querySelector('#df-d5eaa120-d0a8-4cdd-b631-4a0d726ac54b');\n",
              "          const dataTable =\n",
              "            await google.colab.kernel.invokeFunction('convertToInteractive',\n",
              "                                                     [key], {});\n",
              "          if (!dataTable) return;\n",
              "\n",
              "          const docLinkHtml = 'Like what you see? Visit the ' +\n",
              "            '<a target=\"_blank\" href=https://colab.research.google.com/notebooks/data_table.ipynb>data table notebook</a>'\n",
              "            + ' to learn more about interactive tables.';\n",
              "          element.innerHTML = '';\n",
              "          dataTable['output_type'] = 'display_data';\n",
              "          await google.colab.output.renderOutput(dataTable, element);\n",
              "          const docLink = document.createElement('div');\n",
              "          docLink.innerHTML = docLinkHtml;\n",
              "          element.appendChild(docLink);\n",
              "        }\n",
              "      </script>\n",
              "    </div>\n",
              "  </div>\n",
              "  "
            ]
          },
          "metadata": {},
          "execution_count": 86
        }
      ]
    },
    {
      "cell_type": "code",
      "source": [
        "y=Y.T[0]\n",
        "y@X"
      ],
      "metadata": {
        "colab": {
          "base_uri": "https://localhost:8080/"
        },
        "id": "-bKIOaXp1Xkd",
        "outputId": "09d7a25d-942a-4592-9ea8-c5bef37a76ed"
      },
      "execution_count": 87,
      "outputs": [
        {
          "output_type": "execute_result",
          "data": {
            "text/plain": [
              "array([100870299, 100201580,  95172379])"
            ]
          },
          "metadata": {},
          "execution_count": 87
        }
      ]
    },
    {
      "cell_type": "code",
      "source": [
        "y\n"
      ],
      "metadata": {
        "colab": {
          "base_uri": "https://localhost:8080/"
        },
        "id": "qP2zXpEK1YnU",
        "outputId": "0a947291-7f43-4ba7-f078-97f8ca6c8105"
      },
      "execution_count": 88,
      "outputs": [
        {
          "output_type": "execute_result",
          "data": {
            "text/plain": [
              "array([201, 222,  88, ..., 158, 117, 147])"
            ]
          },
          "metadata": {},
          "execution_count": 88
        }
      ]
    },
    {
      "cell_type": "code",
      "source": [
        "X"
      ],
      "metadata": {
        "colab": {
          "base_uri": "https://localhost:8080/"
        },
        "id": "O4W_l0WO1lUF",
        "outputId": "60784799-b5f4-42bc-af4d-c2949177959f"
      },
      "execution_count": 89,
      "outputs": [
        {
          "output_type": "execute_result",
          "data": {
            "text/plain": [
              "array([[151, 186, 159],\n",
              "       [192, 206, 300],\n",
              "       [109,  98,   0],\n",
              "       ...,\n",
              "       [155, 144, 159],\n",
              "       [ 94,  89, 108],\n",
              "       [157,  83,  90]])"
            ]
          },
          "metadata": {},
          "execution_count": 89
        }
      ]
    },
    {
      "cell_type": "code",
      "source": [
        "fig,ax = plt.subplots(1,1, figsize=(10,6))\n",
        "markers = ['s','>','o']\n",
        "for i,j in zip(np.unique(y), markers):\n",
        "  ax.scatter(pca_p.iloc[:,0][y==i], pca_p.iloc[:,1][y==i], marker=j)\n",
        "\n",
        "ax.set_xlabel(pca_p.columns[0], size=14)\n",
        "ax.set_ylabel(pca_p.columns[1], size=14)\n",
        "ax.spines['top'].set_visible(False)\n",
        "ax.spines['right'].set_visible(False)\n",
        "plt.show()"
      ],
      "metadata": {
        "colab": {
          "base_uri": "https://localhost:8080/",
          "height": 392
        },
        "id": "r9rnNY_y1pos",
        "outputId": "c44dbefb-730e-421d-ec80-769ddee6f1c4"
      },
      "execution_count": 90,
      "outputs": [
        {
          "output_type": "display_data",
          "data": {
            "text/plain": [
              "<Figure size 720x432 with 1 Axes>"
            ],
            "image/png": "[encoded data removed]"
          },
          "metadata": {
            "needs_background": "light"
          }
        }
      ]
    },
    {
      "cell_type": "code",
      "source": [
        "scal = StandardScaler()\n",
        "X_scal = scal.fit_transform(X)\n",
        "\n",
        "pca = PCA(n_components=2)\n",
        "X_pca = pca.fit_transform(X_scal)\n",
        "\n",
        "pca_2 = pd.DataFrame(X_pca, columns=['PC1','PC2'])"
      ],
      "metadata": {
        "id": "WHUHknl31ubk"
      },
      "execution_count": 91,
      "outputs": []
    },
    {
      "cell_type": "code",
      "source": [
        "pca3 = PCA()\n",
        "\n",
        "pca3.fit(X_scal)"
      ],
      "metadata": {
        "colab": {
          "base_uri": "https://localhost:8080/"
        },
        "id": "DxD3WsIp1voc",
        "outputId": "ae3a84e6-a535-4e7a-fddc-e4cac92ae8ea"
      },
      "execution_count": 92,
      "outputs": [
        {
          "output_type": "execute_result",
          "data": {
            "text/plain": [
              "PCA()"
            ]
          },
          "metadata": {},
          "execution_count": 92
        }
      ]
    },
    {
      "cell_type": "code",
      "source": [
        "pca3.explained_variance_"
      ],
      "metadata": {
        "colab": {
          "base_uri": "https://localhost:8080/"
        },
        "id": "Ol4PjhAW1w3E",
        "outputId": "6cfd92e7-2f5c-4b8e-8e00-51e7a6163be3"
      },
      "execution_count": 93,
      "outputs": [
        {
          "output_type": "execute_result",
          "data": {
            "text/plain": [
              "array([1.9593956 , 0.75720325, 0.28417956])"
            ]
          },
          "metadata": {},
          "execution_count": 93
        }
      ]
    },
    {
      "cell_type": "code",
      "source": [
        "pca3.explained_variance_ratio_"
      ],
      "metadata": {
        "colab": {
          "base_uri": "https://localhost:8080/"
        },
        "id": "v9veNIG41yBM",
        "outputId": "d03f8fe4-8d3e-46c7-f2ed-262901a3e75f"
      },
      "execution_count": 94,
      "outputs": [
        {
          "output_type": "execute_result",
          "data": {
            "text/plain": [
              "array([0.65296244, 0.25233561, 0.09470195])"
            ]
          },
          "metadata": {},
          "execution_count": 94
        }
      ]
    },
    {
      "cell_type": "code",
      "source": [
        "np.cumsum(pca3.explained_variance_ratio_)"
      ],
      "metadata": {
        "colab": {
          "base_uri": "https://localhost:8080/"
        },
        "id": "XA-D3B331zDM",
        "outputId": "428f3bbd-b22b-410c-9bda-62827b0e4fa6"
      },
      "execution_count": 95,
      "outputs": [
        {
          "output_type": "execute_result",
          "data": {
            "text/plain": [
              "array([0.65296244, 0.90529805, 1.        ])"
            ]
          },
          "metadata": {},
          "execution_count": 95
        }
      ]
    },
    {
      "cell_type": "code",
      "source": [
        "X.shape"
      ],
      "metadata": {
        "colab": {
          "base_uri": "https://localhost:8080/"
        },
        "id": "Xd4YbINLCGZD",
        "outputId": "8a8966be-79cb-4a3a-96e0-b9dac833cc22"
      },
      "execution_count": 99,
      "outputs": [
        {
          "output_type": "execute_result",
          "data": {
            "text/plain": [
              "(3855, 3)"
            ]
          },
          "metadata": {},
          "execution_count": 99
        }
      ]
    },
    {
      "cell_type": "code",
      "source": [
        "y.shape"
      ],
      "metadata": {
        "colab": {
          "base_uri": "https://localhost:8080/"
        },
        "id": "dOnY9joOCISQ",
        "outputId": "40c809c2-3a8e-4764-e5d6-ba2a381b36e2"
      },
      "execution_count": 100,
      "outputs": [
        {
          "output_type": "execute_result",
          "data": {
            "text/plain": [
              "(3855,)"
            ]
          },
          "metadata": {},
          "execution_count": 100
        }
      ]
    },
    {
      "cell_type": "code",
      "source": [
        "fig, ax = plt.subplots(1,1, figsize=(10,6))\n",
        "ax.set_facecolor('#EFFFF5')\n",
        "plt.plot(np.arange(1,5,1), pca3.explained_variance_ratio_, marker='s', label='varianza_explicada')\n",
        "plt.plot(np.arange(1,5,1),np.cumsum(pca3.explained_variance_ratio_), marker='^', color='darkgreen', label='varianza_acumulada')\n",
        "plt.Xlim(0.8,4.5)\n",
        "plt.ylim(-0.05,1.05)\n",
        "plt.Xticks(ticks=np.arange(1,5,1))\n",
        "plt.axhline(1, ls='--', color='g', alpha=0.3)\n",
        "plt.Xlabel('Número de componentes', size=14)\n",
        "plt.ylabel('% varianza explicada', size=14)\n",
        "ax.spines['top'].set_visible(False)\n",
        "ax.spines['right'].set_visible(False)\n",
        "ax.spines['left'].set_visible(False)\n",
        "ax.spines['bottom'].set_visible(False)\n",
        "plt.grid(alpha=0.2, axis='both')\n",
        "plt.show()"
      ],
      "metadata": {
        "colab": {
          "base_uri": "https://localhost:8080/",
          "height": 741
        },
        "id": "bC1gYvEr1z9s",
        "outputId": "248faacf-47f5-4760-f9af-43e9d86f3cf8"
      },
      "execution_count": 96,
      "outputs": [
        {
          "output_type": "error",
          "ename": "ValueError",
          "evalue": "ignored",
          "traceback": [
            "\u001b[0;31m---------------------------------------------------------------------------\u001b[0m",
            "\u001b[0;31mValueError\u001b[0m                                Traceback (most recent call last)",
            "\u001b[0;32m<ipython-input-96-3995f02b4a60>\u001b[0m in \u001b[0;36m<module>\u001b[0;34m()\u001b[0m\n\u001b[1;32m      1\u001b[0m \u001b[0mfig\u001b[0m\u001b[0;34m,\u001b[0m \u001b[0max\u001b[0m \u001b[0;34m=\u001b[0m \u001b[0mplt\u001b[0m\u001b[0;34m.\u001b[0m\u001b[0msubplots\u001b[0m\u001b[0;34m(\u001b[0m\u001b[0;36m1\u001b[0m\u001b[0;34m,\u001b[0m\u001b[0;36m1\u001b[0m\u001b[0;34m,\u001b[0m \u001b[0mfigsize\u001b[0m\u001b[0;34m=\u001b[0m\u001b[0;34m(\u001b[0m\u001b[0;36m10\u001b[0m\u001b[0;34m,\u001b[0m\u001b[0;36m6\u001b[0m\u001b[0;34m)\u001b[0m\u001b[0;34m)\u001b[0m\u001b[0;34m\u001b[0m\u001b[0;34m\u001b[0m\u001b[0m\n\u001b[1;32m      2\u001b[0m \u001b[0max\u001b[0m\u001b[0;34m.\u001b[0m\u001b[0mset_facecolor\u001b[0m\u001b[0;34m(\u001b[0m\u001b[0;34m'#EFFFF5'\u001b[0m\u001b[0;34m)\u001b[0m\u001b[0;34m\u001b[0m\u001b[0;34m\u001b[0m\u001b[0m\n\u001b[0;32m----> 3\u001b[0;31m \u001b[0mplt\u001b[0m\u001b[0;34m.\u001b[0m\u001b[0mplot\u001b[0m\u001b[0;34m(\u001b[0m\u001b[0mnp\u001b[0m\u001b[0;34m.\u001b[0m\u001b[0marange\u001b[0m\u001b[0;34m(\u001b[0m\u001b[0;36m1\u001b[0m\u001b[0;34m,\u001b[0m\u001b[0;36m5\u001b[0m\u001b[0;34m,\u001b[0m\u001b[0;36m1\u001b[0m\u001b[0;34m)\u001b[0m\u001b[0;34m,\u001b[0m \u001b[0mpca3\u001b[0m\u001b[0;34m.\u001b[0m\u001b[0mexplained_variance_ratio_\u001b[0m\u001b[0;34m,\u001b[0m \u001b[0mmarker\u001b[0m\u001b[0;34m=\u001b[0m\u001b[0;34m's'\u001b[0m\u001b[0;34m,\u001b[0m \u001b[0mlabel\u001b[0m\u001b[0;34m=\u001b[0m\u001b[0;34m'varianza_explicada'\u001b[0m\u001b[0;34m)\u001b[0m\u001b[0;34m\u001b[0m\u001b[0;34m\u001b[0m\u001b[0m\n\u001b[0m\u001b[1;32m      4\u001b[0m \u001b[0mplt\u001b[0m\u001b[0;34m.\u001b[0m\u001b[0mplot\u001b[0m\u001b[0;34m(\u001b[0m\u001b[0mnp\u001b[0m\u001b[0;34m.\u001b[0m\u001b[0marange\u001b[0m\u001b[0;34m(\u001b[0m\u001b[0;36m1\u001b[0m\u001b[0;34m,\u001b[0m\u001b[0;36m5\u001b[0m\u001b[0;34m,\u001b[0m\u001b[0;36m1\u001b[0m\u001b[0;34m)\u001b[0m\u001b[0;34m,\u001b[0m\u001b[0mnp\u001b[0m\u001b[0;34m.\u001b[0m\u001b[0mcumsum\u001b[0m\u001b[0;34m(\u001b[0m\u001b[0mpca3\u001b[0m\u001b[0;34m.\u001b[0m\u001b[0mexplained_variance_ratio_\u001b[0m\u001b[0;34m)\u001b[0m\u001b[0;34m,\u001b[0m \u001b[0mmarker\u001b[0m\u001b[0;34m=\u001b[0m\u001b[0;34m'^'\u001b[0m\u001b[0;34m,\u001b[0m \u001b[0mcolor\u001b[0m\u001b[0;34m=\u001b[0m\u001b[0;34m'darkgreen'\u001b[0m\u001b[0;34m,\u001b[0m \u001b[0mlabel\u001b[0m\u001b[0;34m=\u001b[0m\u001b[0;34m'varianza_acumulada'\u001b[0m\u001b[0;34m)\u001b[0m\u001b[0;34m\u001b[0m\u001b[0;34m\u001b[0m\u001b[0m\n\u001b[1;32m      5\u001b[0m \u001b[0mplt\u001b[0m\u001b[0;34m.\u001b[0m\u001b[0mXlim\u001b[0m\u001b[0;34m(\u001b[0m\u001b[0;36m0.8\u001b[0m\u001b[0;34m,\u001b[0m\u001b[0;36m4.5\u001b[0m\u001b[0;34m)\u001b[0m\u001b[0;34m\u001b[0m\u001b[0;34m\u001b[0m\u001b[0m\n",
            "\u001b[0;32m/usr/local/lib/python3.7/dist-packages/matplotlib/pyplot.py\u001b[0m in \u001b[0;36mplot\u001b[0;34m(scalex, scaley, data, *args, **kwargs)\u001b[0m\n\u001b[1;32m   2761\u001b[0m     return gca().plot(\n\u001b[1;32m   2762\u001b[0m         *args, scalex=scalex, scaley=scaley, **({\"data\": data} if data\n\u001b[0;32m-> 2763\u001b[0;31m         is not None else {}), **kwargs)\n\u001b[0m\u001b[1;32m   2764\u001b[0m \u001b[0;34m\u001b[0m\u001b[0m\n\u001b[1;32m   2765\u001b[0m \u001b[0;34m\u001b[0m\u001b[0m\n",
            "\u001b[0;32m/usr/local/lib/python3.7/dist-packages/matplotlib/axes/_axes.py\u001b[0m in \u001b[0;36mplot\u001b[0;34m(self, scalex, scaley, data, *args, **kwargs)\u001b[0m\n\u001b[1;32m   1645\u001b[0m         \"\"\"\n\u001b[1;32m   1646\u001b[0m         \u001b[0mkwargs\u001b[0m \u001b[0;34m=\u001b[0m \u001b[0mcbook\u001b[0m\u001b[0;34m.\u001b[0m\u001b[0mnormalize_kwargs\u001b[0m\u001b[0;34m(\u001b[0m\u001b[0mkwargs\u001b[0m\u001b[0;34m,\u001b[0m \u001b[0mmlines\u001b[0m\u001b[0;34m.\u001b[0m\u001b[0mLine2D\u001b[0m\u001b[0;34m)\u001b[0m\u001b[0;34m\u001b[0m\u001b[0;34m\u001b[0m\u001b[0m\n\u001b[0;32m-> 1647\u001b[0;31m         \u001b[0mlines\u001b[0m \u001b[0;34m=\u001b[0m \u001b[0;34m[\u001b[0m\u001b[0;34m*\u001b[0m\u001b[0mself\u001b[0m\u001b[0;34m.\u001b[0m\u001b[0m_get_lines\u001b[0m\u001b[0;34m(\u001b[0m\u001b[0;34m*\u001b[0m\u001b[0margs\u001b[0m\u001b[0;34m,\u001b[0m \u001b[0mdata\u001b[0m\u001b[0;34m=\u001b[0m\u001b[0mdata\u001b[0m\u001b[0;34m,\u001b[0m \u001b[0;34m**\u001b[0m\u001b[0mkwargs\u001b[0m\u001b[0;34m)\u001b[0m\u001b[0;34m]\u001b[0m\u001b[0;34m\u001b[0m\u001b[0;34m\u001b[0m\u001b[0m\n\u001b[0m\u001b[1;32m   1648\u001b[0m         \u001b[0;32mfor\u001b[0m \u001b[0mline\u001b[0m \u001b[0;32min\u001b[0m \u001b[0mlines\u001b[0m\u001b[0;34m:\u001b[0m\u001b[0;34m\u001b[0m\u001b[0;34m\u001b[0m\u001b[0m\n\u001b[1;32m   1649\u001b[0m             \u001b[0mself\u001b[0m\u001b[0;34m.\u001b[0m\u001b[0madd_line\u001b[0m\u001b[0;34m(\u001b[0m\u001b[0mline\u001b[0m\u001b[0;34m)\u001b[0m\u001b[0;34m\u001b[0m\u001b[0;34m\u001b[0m\u001b[0m\n",
            "\u001b[0;32m/usr/local/lib/python3.7/dist-packages/matplotlib/axes/_base.py\u001b[0m in \u001b[0;36m__call__\u001b[0;34m(self, *args, **kwargs)\u001b[0m\n\u001b[1;32m    214\u001b[0m                 \u001b[0mthis\u001b[0m \u001b[0;34m+=\u001b[0m \u001b[0margs\u001b[0m\u001b[0;34m[\u001b[0m\u001b[0;36m0\u001b[0m\u001b[0;34m]\u001b[0m\u001b[0;34m,\u001b[0m\u001b[0;34m\u001b[0m\u001b[0;34m\u001b[0m\u001b[0m\n\u001b[1;32m    215\u001b[0m                 \u001b[0margs\u001b[0m \u001b[0;34m=\u001b[0m \u001b[0margs\u001b[0m\u001b[0;34m[\u001b[0m\u001b[0;36m1\u001b[0m\u001b[0;34m:\u001b[0m\u001b[0;34m]\u001b[0m\u001b[0;34m\u001b[0m\u001b[0;34m\u001b[0m\u001b[0m\n\u001b[0;32m--> 216\u001b[0;31m             \u001b[0;32myield\u001b[0m \u001b[0;32mfrom\u001b[0m \u001b[0mself\u001b[0m\u001b[0;34m.\u001b[0m\u001b[0m_plot_args\u001b[0m\u001b[0;34m(\u001b[0m\u001b[0mthis\u001b[0m\u001b[0;34m,\u001b[0m \u001b[0mkwargs\u001b[0m\u001b[0;34m)\u001b[0m\u001b[0;34m\u001b[0m\u001b[0;34m\u001b[0m\u001b[0m\n\u001b[0m\u001b[1;32m    217\u001b[0m \u001b[0;34m\u001b[0m\u001b[0m\n\u001b[1;32m    218\u001b[0m     \u001b[0;32mdef\u001b[0m \u001b[0mget_next_color\u001b[0m\u001b[0;34m(\u001b[0m\u001b[0mself\u001b[0m\u001b[0;34m)\u001b[0m\u001b[0;34m:\u001b[0m\u001b[0;34m\u001b[0m\u001b[0;34m\u001b[0m\u001b[0m\n",
            "\u001b[0;32m/usr/local/lib/python3.7/dist-packages/matplotlib/axes/_base.py\u001b[0m in \u001b[0;36m_plot_args\u001b[0;34m(self, tup, kwargs)\u001b[0m\n\u001b[1;32m    340\u001b[0m \u001b[0;34m\u001b[0m\u001b[0m\n\u001b[1;32m    341\u001b[0m         \u001b[0;32mif\u001b[0m \u001b[0mx\u001b[0m\u001b[0;34m.\u001b[0m\u001b[0mshape\u001b[0m\u001b[0;34m[\u001b[0m\u001b[0;36m0\u001b[0m\u001b[0;34m]\u001b[0m \u001b[0;34m!=\u001b[0m \u001b[0my\u001b[0m\u001b[0;34m.\u001b[0m\u001b[0mshape\u001b[0m\u001b[0;34m[\u001b[0m\u001b[0;36m0\u001b[0m\u001b[0;34m]\u001b[0m\u001b[0;34m:\u001b[0m\u001b[0;34m\u001b[0m\u001b[0;34m\u001b[0m\u001b[0m\n\u001b[0;32m--> 342\u001b[0;31m             raise ValueError(f\"x and y must have same first dimension, but \"\n\u001b[0m\u001b[1;32m    343\u001b[0m                              f\"have shapes {x.shape} and {y.shape}\")\n\u001b[1;32m    344\u001b[0m         \u001b[0;32mif\u001b[0m \u001b[0mx\u001b[0m\u001b[0;34m.\u001b[0m\u001b[0mndim\u001b[0m \u001b[0;34m>\u001b[0m \u001b[0;36m2\u001b[0m \u001b[0;32mor\u001b[0m \u001b[0my\u001b[0m\u001b[0;34m.\u001b[0m\u001b[0mndim\u001b[0m \u001b[0;34m>\u001b[0m \u001b[0;36m2\u001b[0m\u001b[0;34m:\u001b[0m\u001b[0;34m\u001b[0m\u001b[0;34m\u001b[0m\u001b[0m\n",
            "\u001b[0;31mValueError\u001b[0m: x and y must have same first dimension, but have shapes (4,) and (3,)"
          ]
        },
        {
          "output_type": "display_data",
          "data": {
            "text/plain": [
              "<Figure size 720x432 with 1 Axes>"
            ],
            "image/png": "[encoded data removed]"
          },
          "metadata": {
            "needs_background": "light"
          }
        }
      ]
    },
    {
      "cell_type": "code",
      "source": [
        "sklearn_loadings = pca.components_.T * np.sqrt(pca.explained_variance_)\n"
      ],
      "metadata": {
        "id": "NAWiXUaU11C9"
      },
      "execution_count": 97,
      "outputs": []
    },
    {
      "cell_type": "code",
      "source": [
        "sklearn_loadings\n"
      ],
      "metadata": {
        "colab": {
          "base_uri": "https://localhost:8080/"
        },
        "id": "PnLbkzrU2R2-",
        "outputId": "dea1a91a-595a-4c13-cdc5-a7d376e6f2b5"
      },
      "execution_count": 98,
      "outputs": [
        {
          "output_type": "execute_result",
          "data": {
            "text/plain": [
              "array([[-0.88855433, -0.25637373],\n",
              "       [-0.87916843, -0.29738013],\n",
              "       [-0.63002354,  0.77655703]])"
            ]
          },
          "metadata": {},
          "execution_count": 98
        }
      ]
    },
    {
      "cell_type": "code",
      "source": [
        ""
      ],
      "metadata": {
        "colab": {
          "base_uri": "https://localhost:8080/",
          "height": 311
        },
        "id": "4eTDBH092Ta0",
        "outputId": "274af652-8ab4-498f-c3e2-930548bb746d"
      },
      "execution_count": 70,
      "outputs": [
        {
          "output_type": "error",
          "ename": "ValueError",
          "evalue": "ignored",
          "traceback": [
            "\u001b[0;31m---------------------------------------------------------------------------\u001b[0m",
            "\u001b[0;31mValueError\u001b[0m                                Traceback (most recent call last)",
            "\u001b[0;32m<ipython-input-70-3bf14f45a56d>\u001b[0m in \u001b[0;36m<module>\u001b[0;34m()\u001b[0m\n\u001b[0;32m----> 1\u001b[0;31m \u001b[0mX\u001b[0m \u001b[0;34m=\u001b[0m \u001b[0mpd\u001b[0m\u001b[0;34m.\u001b[0m\u001b[0mDataFrame\u001b[0m\u001b[0;34m(\u001b[0m\u001b[0mX\u001b[0m\u001b[0;34m,\u001b[0m \u001b[0mcolumns\u001b[0m\u001b[0;34m=\u001b[0m\u001b[0mload_iris\u001b[0m\u001b[0;34m(\u001b[0m\u001b[0;34m)\u001b[0m\u001b[0;34m[\u001b[0m\u001b[0;34m'feature_names'\u001b[0m\u001b[0;34m]\u001b[0m\u001b[0;34m)\u001b[0m\u001b[0;34m\u001b[0m\u001b[0;34m\u001b[0m\u001b[0m\n\u001b[0m",
            "\u001b[0;32m/usr/local/lib/python3.7/dist-packages/pandas/core/frame.py\u001b[0m in \u001b[0;36m__init__\u001b[0;34m(self, data, index, columns, dtype, copy)\u001b[0m\n\u001b[1;32m    676\u001b[0m                     \u001b[0mdtype\u001b[0m\u001b[0;34m=\u001b[0m\u001b[0mdtype\u001b[0m\u001b[0;34m,\u001b[0m\u001b[0;34m\u001b[0m\u001b[0;34m\u001b[0m\u001b[0m\n\u001b[1;32m    677\u001b[0m                     \u001b[0mcopy\u001b[0m\u001b[0;34m=\u001b[0m\u001b[0mcopy\u001b[0m\u001b[0;34m,\u001b[0m\u001b[0;34m\u001b[0m\u001b[0;34m\u001b[0m\u001b[0m\n\u001b[0;32m--> 678\u001b[0;31m                     \u001b[0mtyp\u001b[0m\u001b[0;34m=\u001b[0m\u001b[0mmanager\u001b[0m\u001b[0;34m,\u001b[0m\u001b[0;34m\u001b[0m\u001b[0;34m\u001b[0m\u001b[0m\n\u001b[0m\u001b[1;32m    679\u001b[0m                 )\n\u001b[1;32m    680\u001b[0m \u001b[0;34m\u001b[0m\u001b[0m\n",
            "\u001b[0;32m/usr/local/lib/python3.7/dist-packages/pandas/core/internals/construction.py\u001b[0m in \u001b[0;36mndarray_to_mgr\u001b[0;34m(values, index, columns, dtype, copy, typ)\u001b[0m\n\u001b[1;32m    322\u001b[0m     )\n\u001b[1;32m    323\u001b[0m \u001b[0;34m\u001b[0m\u001b[0m\n\u001b[0;32m--> 324\u001b[0;31m     \u001b[0m_check_values_indices_shape_match\u001b[0m\u001b[0;34m(\u001b[0m\u001b[0mvalues\u001b[0m\u001b[0;34m,\u001b[0m \u001b[0mindex\u001b[0m\u001b[0;34m,\u001b[0m \u001b[0mcolumns\u001b[0m\u001b[0;34m)\u001b[0m\u001b[0;34m\u001b[0m\u001b[0;34m\u001b[0m\u001b[0m\n\u001b[0m\u001b[1;32m    325\u001b[0m \u001b[0;34m\u001b[0m\u001b[0m\n\u001b[1;32m    326\u001b[0m     \u001b[0;32mif\u001b[0m \u001b[0mtyp\u001b[0m \u001b[0;34m==\u001b[0m \u001b[0;34m\"array\"\u001b[0m\u001b[0;34m:\u001b[0m\u001b[0;34m\u001b[0m\u001b[0;34m\u001b[0m\u001b[0m\n",
            "\u001b[0;32m/usr/local/lib/python3.7/dist-packages/pandas/core/internals/construction.py\u001b[0m in \u001b[0;36m_check_values_indices_shape_match\u001b[0;34m(values, index, columns)\u001b[0m\n\u001b[1;32m    391\u001b[0m         \u001b[0mpassed\u001b[0m \u001b[0;34m=\u001b[0m \u001b[0mvalues\u001b[0m\u001b[0;34m.\u001b[0m\u001b[0mshape\u001b[0m\u001b[0;34m\u001b[0m\u001b[0;34m\u001b[0m\u001b[0m\n\u001b[1;32m    392\u001b[0m         \u001b[0mimplied\u001b[0m \u001b[0;34m=\u001b[0m \u001b[0;34m(\u001b[0m\u001b[0mlen\u001b[0m\u001b[0;34m(\u001b[0m\u001b[0mindex\u001b[0m\u001b[0;34m)\u001b[0m\u001b[0;34m,\u001b[0m \u001b[0mlen\u001b[0m\u001b[0;34m(\u001b[0m\u001b[0mcolumns\u001b[0m\u001b[0;34m)\u001b[0m\u001b[0;34m)\u001b[0m\u001b[0;34m\u001b[0m\u001b[0;34m\u001b[0m\u001b[0m\n\u001b[0;32m--> 393\u001b[0;31m         \u001b[0;32mraise\u001b[0m \u001b[0mValueError\u001b[0m\u001b[0;34m(\u001b[0m\u001b[0;34mf\"Shape of passed values is {passed}, indices imply {implied}\"\u001b[0m\u001b[0;34m)\u001b[0m\u001b[0;34m\u001b[0m\u001b[0;34m\u001b[0m\u001b[0m\n\u001b[0m\u001b[1;32m    394\u001b[0m \u001b[0;34m\u001b[0m\u001b[0m\n\u001b[1;32m    395\u001b[0m \u001b[0;34m\u001b[0m\u001b[0m\n",
            "\u001b[0;31mValueError\u001b[0m: Shape of passed values is (3855, 5), indices imply (3855, 4)"
          ]
        }
      ]
    },
    {
      "cell_type": "code",
      "source": [
        ""
      ],
      "metadata": {
        "id": "3pVJ3kp_2VWt"
      },
      "execution_count": null,
      "outputs": []
    }
  ]
}