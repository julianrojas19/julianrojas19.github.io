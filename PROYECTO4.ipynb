{
  "nbformat": 4,
  "nbformat_minor": 0,
  "metadata": {
    "colab": {
      "name": "PROYECTO4.ipynb",
      "provenance": [],
      "include_colab_link": true
    },
    "kernelspec": {
      "name": "python3",
      "display_name": "Python 3"
    },
    "language_info": {
      "name": "python"
    }
  },
  "cells": [
    {
      "cell_type": "markdown",
      "metadata": {
        "id": "view-in-github",
        "colab_type": "text"
      },
      "source": [
        "<a href=\"https://colab.research.google.com/github/julianrojas19/julianrojas19.github.io/blob/main/PROYECTO4.ipynb\" target=\"_parent\"><img src=\"https://colab.research.google.com/assets/colab-badge.svg\" alt=\"Open In Colab\"/></a>"
      ]
    },
    {
      "cell_type": "code",
      "execution_count": null,
      "metadata": {
        "colab": {
          "base_uri": "https://localhost:8080/"
        },
        "id": "Fqv8hna8VVup",
        "outputId": "c7d96edb-a8b7-4c5a-bccc-060ade00a6e4"
      },
      "outputs": [
        {
          "output_type": "stream",
          "name": "stdout",
          "text": [
            "Requirement already satisfied: wooldridge in /usr/local/lib/python3.7/dist-packages (0.4.4)\n",
            "Requirement already satisfied: pandas in /usr/local/lib/python3.7/dist-packages (from wooldridge) (1.3.5)\n",
            "Requirement already satisfied: python-dateutil>=2.7.3 in /usr/local/lib/python3.7/dist-packages (from pandas->wooldridge) (2.8.2)\n",
            "Requirement already satisfied: pytz>=2017.3 in /usr/local/lib/python3.7/dist-packages (from pandas->wooldridge) (2018.9)\n",
            "Requirement already satisfied: numpy>=1.17.3 in /usr/local/lib/python3.7/dist-packages (from pandas->wooldridge) (1.21.5)\n",
            "Requirement already satisfied: six>=1.5 in /usr/local/lib/python3.7/dist-packages (from python-dateutil>=2.7.3->pandas->wooldridge) (1.15.0)\n"
          ]
        }
      ],
      "source": [
        "!pip install wooldridge\n",
        "import wooldridge as wd\n",
        "import matplotlib.pyplot as plt\n",
        "import seaborn as sns\n",
        "import numpy as np\n",
        "import pandas as pd\n",
        "from collections import Counter \n",
        "from sklearn.linear_model import LinearRegression\n",
        "import statistics as st"
      ]
    },
    {
      "cell_type": "code",
      "source": [
        "crime=wd.data(\"crime1\")"
      ],
      "metadata": {
        "id": "Ajycqs90VWeD"
      },
      "execution_count": null,
      "outputs": []
    },
    {
      "cell_type": "code",
      "source": [
        "crime"
      ],
      "metadata": {
        "colab": {
          "base_uri": "https://localhost:8080/",
          "height": 424
        },
        "id": "jUb7JRErWTWf",
        "outputId": "c63e04b2-30d6-4020-83d6-2964a5c73da1"
      },
      "execution_count": null,
      "outputs": [
        {
          "output_type": "execute_result",
          "data": {
            "text/html": [
              "\n",
              "  <div id=\"df-0fe523b1-28cd-46ff-8e6f-94359136b44a\">\n",
              "    <div class=\"colab-df-container\">\n",
              "      <div>\n",
              "<style scoped>\n",
              "    .dataframe tbody tr th:only-of-type {\n",
              "        vertical-align: middle;\n",
              "    }\n",
              "\n",
              "    .dataframe tbody tr th {\n",
              "        vertical-align: top;\n",
              "    }\n",
              "\n",
              "    .dataframe thead th {\n",
              "        text-align: right;\n",
              "    }\n",
              "</style>\n",
              "<table border=\"1\" class=\"dataframe\">\n",
              "  <thead>\n",
              "    <tr style=\"text-align: right;\">\n",
              "      <th></th>\n",
              "      <th>narr86</th>\n",
              "      <th>nfarr86</th>\n",
              "      <th>nparr86</th>\n",
              "      <th>pcnv</th>\n",
              "      <th>avgsen</th>\n",
              "      <th>tottime</th>\n",
              "      <th>ptime86</th>\n",
              "      <th>qemp86</th>\n",
              "      <th>inc86</th>\n",
              "      <th>durat</th>\n",
              "      <th>black</th>\n",
              "      <th>hispan</th>\n",
              "      <th>born60</th>\n",
              "      <th>pcnvsq</th>\n",
              "      <th>pt86sq</th>\n",
              "      <th>inc86sq</th>\n",
              "    </tr>\n",
              "  </thead>\n",
              "  <tbody>\n",
              "    <tr>\n",
              "      <th>0</th>\n",
              "      <td>0</td>\n",
              "      <td>0</td>\n",
              "      <td>0</td>\n",
              "      <td>0.38</td>\n",
              "      <td>17.600000</td>\n",
              "      <td>35.200001</td>\n",
              "      <td>12</td>\n",
              "      <td>0.0</td>\n",
              "      <td>0.000000</td>\n",
              "      <td>0.0</td>\n",
              "      <td>0</td>\n",
              "      <td>0</td>\n",
              "      <td>1</td>\n",
              "      <td>0.1444</td>\n",
              "      <td>144</td>\n",
              "      <td>0.000000</td>\n",
              "    </tr>\n",
              "    <tr>\n",
              "      <th>1</th>\n",
              "      <td>2</td>\n",
              "      <td>2</td>\n",
              "      <td>0</td>\n",
              "      <td>0.44</td>\n",
              "      <td>0.000000</td>\n",
              "      <td>0.000000</td>\n",
              "      <td>0</td>\n",
              "      <td>1.0</td>\n",
              "      <td>0.800000</td>\n",
              "      <td>0.0</td>\n",
              "      <td>0</td>\n",
              "      <td>1</td>\n",
              "      <td>0</td>\n",
              "      <td>0.1936</td>\n",
              "      <td>0</td>\n",
              "      <td>0.640000</td>\n",
              "    </tr>\n",
              "    <tr>\n",
              "      <th>2</th>\n",
              "      <td>1</td>\n",
              "      <td>1</td>\n",
              "      <td>0</td>\n",
              "      <td>0.33</td>\n",
              "      <td>22.799999</td>\n",
              "      <td>22.799999</td>\n",
              "      <td>0</td>\n",
              "      <td>0.0</td>\n",
              "      <td>0.000000</td>\n",
              "      <td>11.0</td>\n",
              "      <td>1</td>\n",
              "      <td>0</td>\n",
              "      <td>1</td>\n",
              "      <td>0.1089</td>\n",
              "      <td>0</td>\n",
              "      <td>0.000000</td>\n",
              "    </tr>\n",
              "    <tr>\n",
              "      <th>3</th>\n",
              "      <td>2</td>\n",
              "      <td>2</td>\n",
              "      <td>1</td>\n",
              "      <td>0.25</td>\n",
              "      <td>0.000000</td>\n",
              "      <td>0.000000</td>\n",
              "      <td>5</td>\n",
              "      <td>2.0</td>\n",
              "      <td>8.800000</td>\n",
              "      <td>0.0</td>\n",
              "      <td>0</td>\n",
              "      <td>1</td>\n",
              "      <td>1</td>\n",
              "      <td>0.0625</td>\n",
              "      <td>25</td>\n",
              "      <td>77.440002</td>\n",
              "    </tr>\n",
              "    <tr>\n",
              "      <th>4</th>\n",
              "      <td>1</td>\n",
              "      <td>1</td>\n",
              "      <td>0</td>\n",
              "      <td>0.00</td>\n",
              "      <td>0.000000</td>\n",
              "      <td>0.000000</td>\n",
              "      <td>0</td>\n",
              "      <td>2.0</td>\n",
              "      <td>8.100000</td>\n",
              "      <td>1.0</td>\n",
              "      <td>0</td>\n",
              "      <td>0</td>\n",
              "      <td>0</td>\n",
              "      <td>0.0000</td>\n",
              "      <td>0</td>\n",
              "      <td>65.610008</td>\n",
              "    </tr>\n",
              "    <tr>\n",
              "      <th>...</th>\n",
              "      <td>...</td>\n",
              "      <td>...</td>\n",
              "      <td>...</td>\n",
              "      <td>...</td>\n",
              "      <td>...</td>\n",
              "      <td>...</td>\n",
              "      <td>...</td>\n",
              "      <td>...</td>\n",
              "      <td>...</td>\n",
              "      <td>...</td>\n",
              "      <td>...</td>\n",
              "      <td>...</td>\n",
              "      <td>...</td>\n",
              "      <td>...</td>\n",
              "      <td>...</td>\n",
              "      <td>...</td>\n",
              "    </tr>\n",
              "    <tr>\n",
              "      <th>2720</th>\n",
              "      <td>1</td>\n",
              "      <td>1</td>\n",
              "      <td>0</td>\n",
              "      <td>0.00</td>\n",
              "      <td>0.000000</td>\n",
              "      <td>0.000000</td>\n",
              "      <td>0</td>\n",
              "      <td>0.0</td>\n",
              "      <td>0.000000</td>\n",
              "      <td>3.0</td>\n",
              "      <td>0</td>\n",
              "      <td>0</td>\n",
              "      <td>0</td>\n",
              "      <td>0.0000</td>\n",
              "      <td>0</td>\n",
              "      <td>0.000000</td>\n",
              "    </tr>\n",
              "    <tr>\n",
              "      <th>2721</th>\n",
              "      <td>0</td>\n",
              "      <td>0</td>\n",
              "      <td>0</td>\n",
              "      <td>0.00</td>\n",
              "      <td>0.000000</td>\n",
              "      <td>0.000000</td>\n",
              "      <td>0</td>\n",
              "      <td>3.0</td>\n",
              "      <td>11.500000</td>\n",
              "      <td>1.0</td>\n",
              "      <td>0</td>\n",
              "      <td>1</td>\n",
              "      <td>1</td>\n",
              "      <td>0.0000</td>\n",
              "      <td>0</td>\n",
              "      <td>132.250000</td>\n",
              "    </tr>\n",
              "    <tr>\n",
              "      <th>2722</th>\n",
              "      <td>0</td>\n",
              "      <td>0</td>\n",
              "      <td>0</td>\n",
              "      <td>0.00</td>\n",
              "      <td>0.000000</td>\n",
              "      <td>0.000000</td>\n",
              "      <td>0</td>\n",
              "      <td>1.0</td>\n",
              "      <td>1.900000</td>\n",
              "      <td>1.0</td>\n",
              "      <td>0</td>\n",
              "      <td>0</td>\n",
              "      <td>0</td>\n",
              "      <td>0.0000</td>\n",
              "      <td>0</td>\n",
              "      <td>3.610000</td>\n",
              "    </tr>\n",
              "    <tr>\n",
              "      <th>2723</th>\n",
              "      <td>1</td>\n",
              "      <td>1</td>\n",
              "      <td>0</td>\n",
              "      <td>0.00</td>\n",
              "      <td>0.000000</td>\n",
              "      <td>0.000000</td>\n",
              "      <td>0</td>\n",
              "      <td>0.0</td>\n",
              "      <td>0.000000</td>\n",
              "      <td>19.0</td>\n",
              "      <td>1</td>\n",
              "      <td>0</td>\n",
              "      <td>0</td>\n",
              "      <td>0.0000</td>\n",
              "      <td>0</td>\n",
              "      <td>0.000000</td>\n",
              "    </tr>\n",
              "    <tr>\n",
              "      <th>2724</th>\n",
              "      <td>0</td>\n",
              "      <td>0</td>\n",
              "      <td>0</td>\n",
              "      <td>0.00</td>\n",
              "      <td>0.000000</td>\n",
              "      <td>0.000000</td>\n",
              "      <td>0</td>\n",
              "      <td>4.0</td>\n",
              "      <td>191.300003</td>\n",
              "      <td>0.0</td>\n",
              "      <td>0</td>\n",
              "      <td>0</td>\n",
              "      <td>1</td>\n",
              "      <td>0.0000</td>\n",
              "      <td>0</td>\n",
              "      <td>36595.691406</td>\n",
              "    </tr>\n",
              "  </tbody>\n",
              "</table>\n",
              "<p>2725 rows × 16 columns</p>\n",
              "</div>\n",
              "      <button class=\"colab-df-convert\" onclick=\"convertToInteractive('df-0fe523b1-28cd-46ff-8e6f-94359136b44a')\"\n",
              "              title=\"Convert this dataframe to an interactive table.\"\n",
              "              style=\"display:none;\">\n",
              "        \n",
              "  <svg xmlns=\"http://www.w3.org/2000/svg\" height=\"24px\"viewBox=\"0 0 24 24\"\n",
              "       width=\"24px\">\n",
              "    <path d=\"M0 0h24v24H0V0z\" fill=\"none\"/>\n",
              "    <path d=\"M18.56 5.44l.94 2.06.94-2.06 2.06-.94-2.06-.94-.94-2.06-.94 2.06-2.06.94zm-11 1L8.5 8.5l.94-2.06 2.06-.94-2.06-.94L8.5 2.5l-.94 2.06-2.06.94zm10 10l.94 2.06.94-2.06 2.06-.94-2.06-.94-.94-2.06-.94 2.06-2.06.94z\"/><path d=\"M17.41 7.96l-1.37-1.37c-.4-.4-.92-.59-1.43-.59-.52 0-1.04.2-1.43.59L10.3 9.45l-7.72 7.72c-.78.78-.78 2.05 0 2.83L4 21.41c.39.39.9.59 1.41.59.51 0 1.02-.2 1.41-.59l7.78-7.78 2.81-2.81c.8-.78.8-2.07 0-2.86zM5.41 20L4 18.59l7.72-7.72 1.47 1.35L5.41 20z\"/>\n",
              "  </svg>\n",
              "      </button>\n",
              "      \n",
              "  <style>\n",
              "    .colab-df-container {\n",
              "      display:flex;\n",
              "      flex-wrap:wrap;\n",
              "      gap: 12px;\n",
              "    }\n",
              "\n",
              "    .colab-df-convert {\n",
              "      background-color: #E8F0FE;\n",
              "      border: none;\n",
              "      border-radius: 50%;\n",
              "      cursor: pointer;\n",
              "      display: none;\n",
              "      fill: #1967D2;\n",
              "      height: 32px;\n",
              "      padding: 0 0 0 0;\n",
              "      width: 32px;\n",
              "    }\n",
              "\n",
              "    .colab-df-convert:hover {\n",
              "      background-color: #E2EBFA;\n",
              "      box-shadow: 0px 1px 2px rgba(60, 64, 67, 0.3), 0px 1px 3px 1px rgba(60, 64, 67, 0.15);\n",
              "      fill: #174EA6;\n",
              "    }\n",
              "\n",
              "    [theme=dark] .colab-df-convert {\n",
              "      background-color: #3B4455;\n",
              "      fill: #D2E3FC;\n",
              "    }\n",
              "\n",
              "    [theme=dark] .colab-df-convert:hover {\n",
              "      background-color: #434B5C;\n",
              "      box-shadow: 0px 1px 3px 1px rgba(0, 0, 0, 0.15);\n",
              "      filter: drop-shadow(0px 1px 2px rgba(0, 0, 0, 0.3));\n",
              "      fill: #FFFFFF;\n",
              "    }\n",
              "  </style>\n",
              "\n",
              "      <script>\n",
              "        const buttonEl =\n",
              "          document.querySelector('#df-0fe523b1-28cd-46ff-8e6f-94359136b44a button.colab-df-convert');\n",
              "        buttonEl.style.display =\n",
              "          google.colab.kernel.accessAllowed ? 'block' : 'none';\n",
              "\n",
              "        async function convertToInteractive(key) {\n",
              "          const element = document.querySelector('#df-0fe523b1-28cd-46ff-8e6f-94359136b44a');\n",
              "          const dataTable =\n",
              "            await google.colab.kernel.invokeFunction('convertToInteractive',\n",
              "                                                     [key], {});\n",
              "          if (!dataTable) return;\n",
              "\n",
              "          const docLinkHtml = 'Like what you see? Visit the ' +\n",
              "            '<a target=\"_blank\" href=https://colab.research.google.com/notebooks/data_table.ipynb>data table notebook</a>'\n",
              "            + ' to learn more about interactive tables.';\n",
              "          element.innerHTML = '';\n",
              "          dataTable['output_type'] = 'display_data';\n",
              "          await google.colab.output.renderOutput(dataTable, element);\n",
              "          const docLink = document.createElement('div');\n",
              "          docLink.innerHTML = docLinkHtml;\n",
              "          element.appendChild(docLink);\n",
              "        }\n",
              "      </script>\n",
              "    </div>\n",
              "  </div>\n",
              "  "
            ],
            "text/plain": [
              "      narr86  nfarr86  nparr86  pcnv     avgsen    tottime  ptime86  qemp86  \\\n",
              "0          0        0        0  0.38  17.600000  35.200001       12     0.0   \n",
              "1          2        2        0  0.44   0.000000   0.000000        0     1.0   \n",
              "2          1        1        0  0.33  22.799999  22.799999        0     0.0   \n",
              "3          2        2        1  0.25   0.000000   0.000000        5     2.0   \n",
              "4          1        1        0  0.00   0.000000   0.000000        0     2.0   \n",
              "...      ...      ...      ...   ...        ...        ...      ...     ...   \n",
              "2720       1        1        0  0.00   0.000000   0.000000        0     0.0   \n",
              "2721       0        0        0  0.00   0.000000   0.000000        0     3.0   \n",
              "2722       0        0        0  0.00   0.000000   0.000000        0     1.0   \n",
              "2723       1        1        0  0.00   0.000000   0.000000        0     0.0   \n",
              "2724       0        0        0  0.00   0.000000   0.000000        0     4.0   \n",
              "\n",
              "           inc86  durat  black  hispan  born60  pcnvsq  pt86sq       inc86sq  \n",
              "0       0.000000    0.0      0       0       1  0.1444     144      0.000000  \n",
              "1       0.800000    0.0      0       1       0  0.1936       0      0.640000  \n",
              "2       0.000000   11.0      1       0       1  0.1089       0      0.000000  \n",
              "3       8.800000    0.0      0       1       1  0.0625      25     77.440002  \n",
              "4       8.100000    1.0      0       0       0  0.0000       0     65.610008  \n",
              "...          ...    ...    ...     ...     ...     ...     ...           ...  \n",
              "2720    0.000000    3.0      0       0       0  0.0000       0      0.000000  \n",
              "2721   11.500000    1.0      0       1       1  0.0000       0    132.250000  \n",
              "2722    1.900000    1.0      0       0       0  0.0000       0      3.610000  \n",
              "2723    0.000000   19.0      1       0       0  0.0000       0      0.000000  \n",
              "2724  191.300003    0.0      0       0       1  0.0000       0  36595.691406  \n",
              "\n",
              "[2725 rows x 16 columns]"
            ]
          },
          "metadata": {},
          "execution_count": 35
        }
      ]
    },
    {
      "cell_type": "code",
      "source": [
        "from operator import index\n",
        "class info_econo:\n",
        "  def __init__(self,Y,X):\n",
        "    self.x=X\n",
        "    self.dim=(2725,1)\n",
        "    self.MU=np.ones(self.dim)\n",
        "    self.XZ=np.concatenate((self.MU,self.x),1)\n",
        "    self.y=Y.to_numpy().reshape(-1,1)\n",
        "    self.XT=self.XZ.T\n",
        "    self.X1=self.XT@self.XZ\n",
        "    self.XI=np.linalg.inv(self.X1)\n",
        "    self.XM=self.XT@self.y\n",
        "  def coeficiente(self):\n",
        "    return (self.XI@self.XM).reshape(-1,1)\n",
        "  def error(self):\n",
        "    self.b=self.coeficiente().reshape(-1,1)\n",
        "    self.n=len(self.y)\n",
        "    self.k=(self.x).shape[1]\n",
        "    self.OP=(self.y-self.XZ @ self.coeficiente())\n",
        "    self.num=self.OP.T @ self.OP\n",
        "    self.den=self.n-self.k-1\n",
        "    self.var=self.num/self.den\n",
        "    self.var[0][0]\n",
        "    self.ME=self.var * self.XI\n",
        "    return np.sqrt(np.diag(self.ME)).reshape(-1,1)\n",
        "  def T_stat(self):\n",
        "    return (self.coeficiente()/self.error()).reshape(-1,1)\n",
        "  def int_conf(self):\n",
        "    self.pos=(self.coeficiente()+1.96*self.error())\n",
        "    self.neg=(self.coeficiente()-1.96*self.error())\n",
        "    self.INT=list(zip(self.neg,self.pos))\n",
        "    return self.INT"
      ],
      "metadata": {
        "id": "itKClLfBVZla"
      },
      "execution_count": null,
      "outputs": []
    },
    {
      "cell_type": "code",
      "source": [
        "crime=wd.data(\"crime1\")"
      ],
      "metadata": {
        "id": "RkJUz8tRed8D"
      },
      "execution_count": null,
      "outputs": []
    },
    {
      "cell_type": "code",
      "source": [
        "datos1=info_econo(crime[\"narr86\"],crime[[\"pcnv\",\"avgsen\",\"tottime\",\"inc86\"]])"
      ],
      "metadata": {
        "id": "Pxwcly5xJMaN"
      },
      "execution_count": null,
      "outputs": []
    },
    {
      "cell_type": "code",
      "source": [
        "datos1.coeficiente()"
      ],
      "metadata": {
        "id": "haPAejnIVsAj",
        "colab": {
          "base_uri": "https://localhost:8080/"
        },
        "outputId": "7152d044-a99a-4fa0-c0fa-ec147fb78a1b"
      },
      "execution_count": null,
      "outputs": [
        {
          "output_type": "execute_result",
          "data": {
            "text/plain": [
              "array([[ 0.59387489],\n",
              "       [-0.16243696],\n",
              "       [-0.00618803],\n",
              "       [ 0.00771062],\n",
              "       [-0.00243615]])"
            ]
          },
          "metadata": {},
          "execution_count": 194
        }
      ]
    },
    {
      "cell_type": "code",
      "source": [
        "datos1.error()"
      ],
      "metadata": {
        "colab": {
          "base_uri": "https://localhost:8080/"
        },
        "id": "Ijuo95rTnqgn",
        "outputId": "902aee6f-c826-473c-8d98-a110669ac961"
      },
      "execution_count": null,
      "outputs": [
        {
          "output_type": "execute_result",
          "data": {
            "text/plain": [
              "array([[0.02585771],\n",
              "       [0.04081609],\n",
              "       [0.01238073],\n",
              "       [0.009432  ],\n",
              "       [0.00024321]])"
            ]
          },
          "metadata": {},
          "execution_count": 195
        }
      ]
    },
    {
      "cell_type": "code",
      "source": [
        "datos1.T_stat()"
      ],
      "metadata": {
        "colab": {
          "base_uri": "https://localhost:8080/"
        },
        "id": "EOp-nTPCqUdb",
        "outputId": "20f411a4-f07e-488a-ece4-b3d5e0f43ef3"
      },
      "execution_count": null,
      "outputs": [
        {
          "output_type": "execute_result",
          "data": {
            "text/plain": [
              "array([[ 22.9670375 ],\n",
              "       [ -3.97972866],\n",
              "       [ -0.49981111],\n",
              "       [  0.81749603],\n",
              "       [-10.01685265]])"
            ]
          },
          "metadata": {},
          "execution_count": 196
        }
      ]
    },
    {
      "cell_type": "code",
      "source": [
        "datos1.int_conf()"
      ],
      "metadata": {
        "id": "lhIs8z2cqZsY",
        "colab": {
          "base_uri": "https://localhost:8080/"
        },
        "outputId": "2ce16d68-d337-461a-f75c-e5a30aaf2456"
      },
      "execution_count": null,
      "outputs": [
        {
          "output_type": "execute_result",
          "data": {
            "text/plain": [
              "[(array([0.54319379]), array([0.64455599])),\n",
              " (array([-0.24243649]), array([-0.08243742])),\n",
              " (array([-0.03045426]), array([0.01807821])),\n",
              " (array([-0.0107761]), array([0.02619734])),\n",
              " (array([-0.00291283]), array([-0.00195947]))]"
            ]
          },
          "metadata": {},
          "execution_count": 197
        }
      ]
    },
    {
      "cell_type": "markdown",
      "source": [
        "A partir de los resultados obtenidos en los coeficientes, podemos determinar que por cada unidad que aumentemos en la proporcion de condenas anteriores, disminuira 0,16 la cantidad de veces arrestado. Por cada mes de duración promedio de las condenas anteriores, la cantidad de veces arrestado disminuira en 0,006. Por cada unidad de tiempo que aumente en la carcel (18 meses=1 unidad), la cantidad de veces arrestado aumentara en 0,007. Finalmente por cada unidad de ingreso que aumente la persona, disminuira en 0,002 la probabilidad de que vuelva a la carcel.\n",
        "\n",
        "El error estandar nos muestra la diferencia la diferencia entre la regresión y los datos reales, es decir que en este caso el sesgo que puede presentar cada variable es muy baja.\n",
        "\n",
        "Con respecto al estadistico T se puede argumentar que debido a que los valores absolutos son mayores que el valor critico se pueden rechazar la hipotesis nula, que en este caso es 0,05.\n",
        "\n",
        "Finalmente con los intervalos de confianza podemos estar 95% seguros de el valor real que presenta cada variable esta dentro de este rango obtenido."
      ],
      "metadata": {
        "id": "rFbAF_ae7pim"
      }
    },
    {
      "cell_type": "code",
      "source": [
        "crime=wd.data(\"crime1\")"
      ],
      "metadata": {
        "id": "cy30goa610GV"
      },
      "execution_count": null,
      "outputs": []
    },
    {
      "cell_type": "code",
      "source": [
        "datos1=info_econo(crime[\"narr86\"],crime[[\"pcnv\",\"avgsen\",\"tottime\",\"inc86\", \"pcnvsq\", \"inc86sq\"]])"
      ],
      "metadata": {
        "id": "bymh8e8E3zEH"
      },
      "execution_count": null,
      "outputs": []
    },
    {
      "cell_type": "code",
      "source": [
        "datos1.coeficiente()"
      ],
      "metadata": {
        "colab": {
          "base_uri": "https://localhost:8080/"
        },
        "id": "x9JWuQtk5_jZ",
        "outputId": "bd6d8e05-d6c6-4ae0-f561-42d0d947708c"
      },
      "execution_count": null,
      "outputs": [
        {
          "output_type": "execute_result",
          "data": {
            "text/plain": [
              "array([[ 5.77523688e-01],\n",
              "       [ 6.22634460e-01],\n",
              "       [-6.92546885e-03],\n",
              "       [ 4.48874198e-03],\n",
              "       [-4.08083748e-03],\n",
              "       [-8.26588291e-01],\n",
              "       [ 8.56614968e-06]])"
            ]
          },
          "metadata": {},
          "execution_count": 187
        }
      ]
    },
    {
      "cell_type": "code",
      "source": [
        "datos1.error()"
      ],
      "metadata": {
        "colab": {
          "base_uri": "https://localhost:8080/"
        },
        "id": "ZD2go9qa6B2H",
        "outputId": "2acafe5a-17cc-40e0-d37d-1f1f3b52d822"
      },
      "execution_count": null,
      "outputs": [
        {
          "output_type": "execute_result",
          "data": {
            "text/plain": [
              "array([[2.99333383e-02],\n",
              "       [1.54837099e-01],\n",
              "       [1.22801963e-02],\n",
              "       [9.36604874e-03],\n",
              "       [5.29688653e-04],\n",
              "       [1.56660748e-01],\n",
              "       [2.13246317e-06]])"
            ]
          },
          "metadata": {},
          "execution_count": 188
        }
      ]
    },
    {
      "cell_type": "code",
      "source": [
        "datos1.T_stat()"
      ],
      "metadata": {
        "colab": {
          "base_uri": "https://localhost:8080/"
        },
        "id": "KeQw3MKo6EQq",
        "outputId": "13729a01-4690-4bb0-fa8f-232d200a83ef"
      },
      "execution_count": null,
      "outputs": [
        {
          "output_type": "execute_result",
          "data": {
            "text/plain": [
              "array([[19.29366122],\n",
              "       [ 4.02122271],\n",
              "       [-0.56395425],\n",
              "       [ 0.47925674],\n",
              "       [-7.70421918],\n",
              "       [-5.27629479],\n",
              "       [ 4.01702116]])"
            ]
          },
          "metadata": {},
          "execution_count": 189
        }
      ]
    },
    {
      "cell_type": "code",
      "source": [
        "datos1.int_conf()"
      ],
      "metadata": {
        "colab": {
          "base_uri": "https://localhost:8080/"
        },
        "id": "JQx3bloV6GTQ",
        "outputId": "6a2165f5-4e30-431d-f851-015581ca3df3"
      },
      "execution_count": null,
      "outputs": [
        {
          "output_type": "execute_result",
          "data": {
            "text/plain": [
              "[(array([0.51885434]), array([0.63619303])),\n",
              " (array([0.31915375]), array([0.92611517])),\n",
              " (array([-0.03099465]), array([0.01714372])),\n",
              " (array([-0.01386871]), array([0.0228462])),\n",
              " (array([-0.00511903]), array([-0.00304265])),\n",
              " (array([-1.13364336]), array([-0.51953322])),\n",
              " (array([4.38652187e-06]), array([1.27457775e-05]))]"
            ]
          },
          "metadata": {},
          "execution_count": 190
        }
      ]
    }
  ]
}